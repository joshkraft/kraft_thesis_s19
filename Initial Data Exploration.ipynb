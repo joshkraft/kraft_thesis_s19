{
 "cells": [
  {
   "cell_type": "markdown",
   "metadata": {},
   "source": [
    "\n"
   ]
  },
  {
   "cell_type": "code",
   "execution_count": null,
   "metadata": {},
   "outputs": [],
   "source": []
  },
  {
   "cell_type": "code",
   "execution_count": null,
   "metadata": {},
   "outputs": [],
   "source": []
  },
  {
   "cell_type": "markdown",
   "metadata": {},
   "source": [
    "# Import Data\n",
    "\n",
    "First, we are going to import a small subset of the total data for exploratory data analysis. We are only interested in the tweets written in English."
   ]
  },
  {
   "cell_type": "code",
   "execution_count": 1,
   "metadata": {},
   "outputs": [],
   "source": [
    "# Import Packages\n",
    "import pandas as pd\n",
    "import networkx as nx\n",
    "import matplotlib.pyplot as plt\n",
    "import numpy as np\n",
    "import re\n",
    "import seaborn as sns\n",
    "import nltk\n",
    "import random\n",
    "import gensim\n",
    "import pyLDAvis.gensim\n",
    "import pickle\n",
    "from pprint import pprint\n",
    "from glob import glob\n",
    "from nltk import TweetTokenizer\n",
    "from nltk.corpus import wordnet as wn\n",
    "from nltk.stem.wordnet import WordNetLemmatizer\n",
    "from gensim import corpora\n",
    "sns.set(style=\"ticks\")\n",
    "sns.set(rc={'figure.figsize':(11.7,8.27)})"
   ]
  },
  {
   "cell_type": "code",
   "execution_count": 2,
   "metadata": {},
   "outputs": [],
   "source": [
    "# Import all data\n",
    "filenames = glob('Data/IRA*.csv')\n",
    "\n",
    "df = pd.concat([pd.read_csv(f) for f in filenames])"
   ]
  },
  {
   "cell_type": "code",
   "execution_count": 3,
   "metadata": {},
   "outputs": [],
   "source": [
    "# Select tweets in English\n",
    "df = df[df['language'] == \"English\"]\n",
    "\n",
    "# Convert date\n",
    "df['publish_datetime'] = pd.to_datetime(df['publish_date'])\n",
    "# Create generalized day for plotting\n",
    "df['publish_date'] = df['publish_datetime'].dt.floor('d')\n",
    "\n",
    "# Get rid of retweets here for consistency?"
   ]
  },
  {
   "cell_type": "code",
   "execution_count": 4,
   "metadata": {},
   "outputs": [],
   "source": [
    "# Get rid of URLS for safety purposes\n",
    "def drop_urls(tweet_content):\n",
    "    \"\"\" Drops urls from tweets. Some tweets link to links I don't want to link to...\n",
    "    \"\"\"\n",
    "    drop_url = re.sub(r\"http\\S+\", \"\", tweet_content, flags=re.MULTILINE)\n",
    "    return drop_url\n",
    "\n",
    "df['content'] = df['content'].apply(drop_urls)"
   ]
  },
  {
   "cell_type": "code",
   "execution_count": 5,
   "metadata": {},
   "outputs": [
    {
     "name": "stderr",
     "output_type": "stream",
     "text": [
      "/Library/Frameworks/Python.framework/Versions/3.7/lib/python3.7/site-packages/matplotlib/cbook/__init__.py:2349: DeprecationWarning: Using or importing the ABCs from 'collections' instead of from 'collections.abc' is deprecated, and in 3.8 it will stop working\n",
      "  if isinstance(obj, collections.Iterator):\n",
      "/Library/Frameworks/Python.framework/Versions/3.7/lib/python3.7/site-packages/matplotlib/cbook/__init__.py:2366: DeprecationWarning: Using or importing the ABCs from 'collections' instead of from 'collections.abc' is deprecated, and in 3.8 it will stop working\n",
      "  return list(data) if isinstance(data, collections.MappingView) else data\n"
     ]
    },
    {
     "data": {
      "image/png": "[encoded data removed]",
      "text/plain": [
       "<Figure size 432x288 with 1 Axes>"
      ]
     },
     "metadata": {
      "needs_background": "light"
     },
     "output_type": "display_data"
    }
   ],
   "source": [
    "df_cat_updates = df.groupby('account_category')['updates'].sum().sort_values(ascending=False)\n",
    "\n",
    "cat_plot = df_cat_updates.plot.bar()"
   ]
  },
  {
   "cell_type": "code",
   "execution_count": 6,
   "metadata": {},
   "outputs": [],
   "source": [
    "accounts_max = df.groupby(['account_category', 'author']).max()"
   ]
  },
  {
   "cell_type": "code",
   "execution_count": 7,
   "metadata": {},
   "outputs": [
    {
     "data": {
      "text/html": [
       "<div>\n",
       "<style scoped>\n",
       "    .dataframe tbody tr th:only-of-type {\n",
       "        vertical-align: middle;\n",
       "    }\n",
       "\n",
       "    .dataframe tbody tr th {\n",
       "        vertical-align: top;\n",
       "    }\n",
       "\n",
       "    .dataframe thead th {\n",
       "        text-align: right;\n",
       "    }\n",
       "</style>\n",
       "<table border=\"1\" class=\"dataframe\">\n",
       "  <thead>\n",
       "    <tr style=\"text-align: right;\">\n",
       "      <th></th>\n",
       "      <th>alt_external_id</th>\n",
       "      <th>external_author_id</th>\n",
       "      <th>followers</th>\n",
       "      <th>following</th>\n",
       "      <th>new_june_2018</th>\n",
       "      <th>retweet</th>\n",
       "      <th>tweet_id</th>\n",
       "      <th>updates</th>\n",
       "    </tr>\n",
       "  </thead>\n",
       "  <tbody>\n",
       "    <tr>\n",
       "      <th>count</th>\n",
       "      <td>7.170000e+02</td>\n",
       "      <td>7.170000e+02</td>\n",
       "      <td>717.000000</td>\n",
       "      <td>717.000000</td>\n",
       "      <td>717.000000</td>\n",
       "      <td>717.000000</td>\n",
       "      <td>7.170000e+02</td>\n",
       "      <td>717.000000</td>\n",
       "    </tr>\n",
       "    <tr>\n",
       "      <th>mean</th>\n",
       "      <td>2.404861e+17</td>\n",
       "      <td>2.404845e+17</td>\n",
       "      <td>1617.002789</td>\n",
       "      <td>1509.952580</td>\n",
       "      <td>0.260809</td>\n",
       "      <td>0.810321</td>\n",
       "      <td>7.682746e+17</td>\n",
       "      <td>2938.403068</td>\n",
       "    </tr>\n",
       "    <tr>\n",
       "      <th>std</th>\n",
       "      <td>3.879692e+17</td>\n",
       "      <td>3.879669e+17</td>\n",
       "      <td>5462.836277</td>\n",
       "      <td>3148.038684</td>\n",
       "      <td>0.439382</td>\n",
       "      <td>0.392321</td>\n",
       "      <td>1.067960e+17</td>\n",
       "      <td>8244.957072</td>\n",
       "    </tr>\n",
       "    <tr>\n",
       "      <th>min</th>\n",
       "      <td>3.497640e+07</td>\n",
       "      <td>3.497640e+07</td>\n",
       "      <td>0.000000</td>\n",
       "      <td>0.000000</td>\n",
       "      <td>0.000000</td>\n",
       "      <td>0.000000</td>\n",
       "      <td>4.574222e+17</td>\n",
       "      <td>1.000000</td>\n",
       "    </tr>\n",
       "    <tr>\n",
       "      <th>25%</th>\n",
       "      <td>1.723227e+09</td>\n",
       "      <td>1.723227e+09</td>\n",
       "      <td>58.000000</td>\n",
       "      <td>74.000000</td>\n",
       "      <td>0.000000</td>\n",
       "      <td>1.000000</td>\n",
       "      <td>6.707078e+17</td>\n",
       "      <td>307.000000</td>\n",
       "    </tr>\n",
       "    <tr>\n",
       "      <th>50%</th>\n",
       "      <td>2.559217e+09</td>\n",
       "      <td>2.559217e+09</td>\n",
       "      <td>149.000000</td>\n",
       "      <td>291.000000</td>\n",
       "      <td>0.000000</td>\n",
       "      <td>1.000000</td>\n",
       "      <td>7.433616e+17</td>\n",
       "      <td>677.000000</td>\n",
       "    </tr>\n",
       "    <tr>\n",
       "      <th>75%</th>\n",
       "      <td>7.528907e+17</td>\n",
       "      <td>7.530000e+17</td>\n",
       "      <td>814.000000</td>\n",
       "      <td>1627.000000</td>\n",
       "      <td>1.000000</td>\n",
       "      <td>1.000000</td>\n",
       "      <td>8.892551e+17</td>\n",
       "      <td>2876.000000</td>\n",
       "    </tr>\n",
       "    <tr>\n",
       "      <th>max</th>\n",
       "      <td>9.123939e+17</td>\n",
       "      <td>9.123940e+17</td>\n",
       "      <td>59100.000000</td>\n",
       "      <td>31547.000000</td>\n",
       "      <td>1.000000</td>\n",
       "      <td>1.000000</td>\n",
       "      <td>9.766389e+17</td>\n",
       "      <td>166113.000000</td>\n",
       "    </tr>\n",
       "  </tbody>\n",
       "</table>\n",
       "</div>"
      ],
      "text/plain": [
       "       alt_external_id  external_author_id     followers     following  \\\n",
       "count     7.170000e+02        7.170000e+02    717.000000    717.000000   \n",
       "mean      2.404861e+17        2.404845e+17   1617.002789   1509.952580   \n",
       "std       3.879692e+17        3.879669e+17   5462.836277   3148.038684   \n",
       "min       3.497640e+07        3.497640e+07      0.000000      0.000000   \n",
       "25%       1.723227e+09        1.723227e+09     58.000000     74.000000   \n",
       "50%       2.559217e+09        2.559217e+09    149.000000    291.000000   \n",
       "75%       7.528907e+17        7.530000e+17    814.000000   1627.000000   \n",
       "max       9.123939e+17        9.123940e+17  59100.000000  31547.000000   \n",
       "\n",
       "       new_june_2018     retweet      tweet_id        updates  \n",
       "count     717.000000  717.000000  7.170000e+02     717.000000  \n",
       "mean        0.260809    0.810321  7.682746e+17    2938.403068  \n",
       "std         0.439382    0.392321  1.067960e+17    8244.957072  \n",
       "min         0.000000    0.000000  4.574222e+17       1.000000  \n",
       "25%         0.000000    1.000000  6.707078e+17     307.000000  \n",
       "50%         0.000000    1.000000  7.433616e+17     677.000000  \n",
       "75%         1.000000    1.000000  8.892551e+17    2876.000000  \n",
       "max         1.000000    1.000000  9.766389e+17  166113.000000  "
      ]
     },
     "execution_count": 7,
     "metadata": {},
     "output_type": "execute_result"
    }
   ],
   "source": [
    "accounts_max.describe()"
   ]
  },
  {
   "cell_type": "markdown",
   "metadata": {},
   "source": [
    "## Tweets by Category"
   ]
  },
  {
   "cell_type": "code",
   "execution_count": 8,
   "metadata": {},
   "outputs": [
    {
     "data": {
      "text/plain": [
       "{'NewsFeed': 157403,\n",
       " 'LeftTroll': 159216,\n",
       " 'RightTroll': 330463,\n",
       " 'HashtagGamer': 122365,\n",
       " 'Fearmonger': 2574,\n",
       " 'NonEnglish': 6421,\n",
       " 'Unknown': 1495,\n",
       " 'Commercial': 12416}"
      ]
     },
     "execution_count": 8,
     "metadata": {},
     "output_type": "execute_result"
    }
   ],
   "source": [
    "# Define count_entries()\n",
    "def count_entries(df, *args):\n",
    "    \"\"\"Return a dictionary with counts of\n",
    "    occurrences as value for each key.\"\"\"\n",
    "    \n",
    "    #Initialize an empty dictionary: cols_count\n",
    "    cols_count = {}\n",
    "    \n",
    "    # Iterate over column names in args\n",
    "    for col_name in args:\n",
    "    \n",
    "        # Extract column from DataFrame: col\n",
    "        col = df[col_name]\n",
    "    \n",
    "        # Iterate over the column in DataFrame\n",
    "        for entry in col:\n",
    "    \n",
    "            # If entry is in cols_count, add 1\n",
    "            if entry in cols_count.keys():\n",
    "                cols_count[entry] += 1\n",
    "    \n",
    "            # Else add the entry to cols_count, set the value to 1\n",
    "            else:\n",
    "                cols_count[entry] = 1\n",
    "\n",
    "    # Return the cols_count dictionary\n",
    "    return cols_count\n",
    "\n",
    "# Call count_entries(): result\n",
    "cat_count = count_entries(df, 'account_category')\n",
    "\n",
    "cat_count"
   ]
  },
  {
   "cell_type": "markdown",
   "metadata": {},
   "source": [
    "# Basic Visualizations\n",
    "\n",
    "These tweets occur over SUCH AND SUCH TIME. We will visualize as follows:"
   ]
  },
  {
   "cell_type": "code",
   "execution_count": null,
   "metadata": {},
   "outputs": [],
   "source": []
  },
  {
   "cell_type": "code",
   "execution_count": 9,
   "metadata": {},
   "outputs": [
    {
     "data": {
      "text/html": [
       "<div>\n",
       "<style scoped>\n",
       "    .dataframe tbody tr th:only-of-type {\n",
       "        vertical-align: middle;\n",
       "    }\n",
       "\n",
       "    .dataframe tbody tr th {\n",
       "        vertical-align: top;\n",
       "    }\n",
       "\n",
       "    .dataframe thead th {\n",
       "        text-align: right;\n",
       "    }\n",
       "</style>\n",
       "<table border=\"1\" class=\"dataframe\">\n",
       "  <thead>\n",
       "    <tr style=\"text-align: right;\">\n",
       "      <th></th>\n",
       "      <th>publish_date</th>\n",
       "      <th>account_category</th>\n",
       "      <th>counts</th>\n",
       "    </tr>\n",
       "  </thead>\n",
       "  <tbody>\n",
       "    <tr>\n",
       "      <th>0</th>\n",
       "      <td>2012-02-06</td>\n",
       "      <td>LeftTroll</td>\n",
       "      <td>1</td>\n",
       "    </tr>\n",
       "    <tr>\n",
       "      <th>1</th>\n",
       "      <td>2012-02-07</td>\n",
       "      <td>LeftTroll</td>\n",
       "      <td>1</td>\n",
       "    </tr>\n",
       "    <tr>\n",
       "      <th>2</th>\n",
       "      <td>2012-02-08</td>\n",
       "      <td>LeftTroll</td>\n",
       "      <td>1</td>\n",
       "    </tr>\n",
       "    <tr>\n",
       "      <th>3</th>\n",
       "      <td>2012-02-14</td>\n",
       "      <td>LeftTroll</td>\n",
       "      <td>1</td>\n",
       "    </tr>\n",
       "    <tr>\n",
       "      <th>4</th>\n",
       "      <td>2012-02-29</td>\n",
       "      <td>LeftTroll</td>\n",
       "      <td>1</td>\n",
       "    </tr>\n",
       "  </tbody>\n",
       "</table>\n",
       "</div>"
      ],
      "text/plain": [
       "  publish_date account_category  counts\n",
       "0   2012-02-06        LeftTroll       1\n",
       "1   2012-02-07        LeftTroll       1\n",
       "2   2012-02-08        LeftTroll       1\n",
       "3   2012-02-14        LeftTroll       1\n",
       "4   2012-02-29        LeftTroll       1"
      ]
     },
     "execution_count": 9,
     "metadata": {},
     "output_type": "execute_result"
    }
   ],
   "source": [
    "def grouped_daily_sum(tweets):\n",
    "    \n",
    "    #grouped_df = df.groupby(['account_category']).mean()\n",
    "    grouped_daily = df.groupby(['publish_date','account_category']).size().reset_index(name='counts')\n",
    "    return grouped_daily\n",
    "\n",
    "daily_tweets = grouped_daily_sum(df)\n",
    "daily_tweets.head()"
   ]
  },
  {
   "cell_type": "code",
   "execution_count": 10,
   "metadata": {},
   "outputs": [
    {
     "data": {
      "text/plain": [
       "<seaborn.axisgrid.FacetGrid at 0x12544eda0>"
      ]
     },
     "execution_count": 10,
     "metadata": {},
     "output_type": "execute_result"
    },
    {
     "data": {
      "image/png": "[encoded data removed]",
      "text/plain": [
       "<Figure size 990.725x576 with 1 Axes>"
      ]
     },
     "metadata": {
      "needs_background": "light"
     },
     "output_type": "display_data"
    }
   ],
   "source": [
    "# Define a palette\n",
    "palette = dict(zip(daily_tweets['account_category'].unique(),\n",
    "                   sns.color_palette(\"rocket_r\", 8)))\n",
    "\n",
    "# Plot the lines on two facets\n",
    "sns.relplot(data=daily_tweets,\n",
    "            x='publish_date', y='counts',\n",
    "            hue='account_category',\n",
    "            palette=palette,\n",
    "            height=8, aspect=12/8,\n",
    "            kind=\"line\", legend=\"full\")"
   ]
  },
  {
   "cell_type": "markdown",
   "metadata": {},
   "source": [
    "# Network Analysis\n",
    "\n",
    "We are interested in the structure of the social network within which these accounts reside. \n",
    "\n",
    "From this dataset, we are only able to create a **mentions network**, since we do not have data regarding who has retweeted these tweets. In particular, we are intereset in which IRA accounts mention other IRA accounts, and how often. \n",
    "\n",
    "First, we need to create a function which uses regular expressions to extract the Twitter handles mentioned in each tweet. \n",
    "\n",
    "\n",
    "Then, we will create a function to construct a graph of mentions. This will be a directed graph, where each node represent an IRA account and each edge represents a direct mention."
   ]
  },
  {
   "cell_type": "code",
   "execution_count": 11,
   "metadata": {},
   "outputs": [
    {
     "name": "stderr",
     "output_type": "stream",
     "text": [
      "<>:4: DeprecationWarning: invalid escape sequence \\w\n",
      "<>:4: DeprecationWarning: invalid escape sequence \\w\n",
      "<>:4: DeprecationWarning: invalid escape sequence \\w\n",
      "<ipython-input-11-d8e64270c63f>:4: DeprecationWarning: invalid escape sequence \\w\n",
      "  drop_emails = re.sub(\"[\\w]+@[\\w]+\\.[c][o][m]\", \"\", tweet_content)\n"
     ]
    },
    {
     "data": {
      "text/html": [
       "<div>\n",
       "<style scoped>\n",
       "    .dataframe tbody tr th:only-of-type {\n",
       "        vertical-align: middle;\n",
       "    }\n",
       "\n",
       "    .dataframe tbody tr th {\n",
       "        vertical-align: top;\n",
       "    }\n",
       "\n",
       "    .dataframe thead th {\n",
       "        text-align: right;\n",
       "    }\n",
       "</style>\n",
       "<table border=\"1\" class=\"dataframe\">\n",
       "  <thead>\n",
       "    <tr style=\"text-align: right;\">\n",
       "      <th></th>\n",
       "      <th>external_author_id</th>\n",
       "      <th>author</th>\n",
       "      <th>content</th>\n",
       "      <th>retweet</th>\n",
       "      <th>account_category</th>\n",
       "      <th>mentions</th>\n",
       "    </tr>\n",
       "  </thead>\n",
       "  <tbody>\n",
       "    <tr>\n",
       "      <th>0</th>\n",
       "      <td>2495567768</td>\n",
       "      <td>DAILYSANFRAN</td>\n",
       "      <td>Police: Airline pilot found passed out in cock...</td>\n",
       "      <td>0</td>\n",
       "      <td>NewsFeed</td>\n",
       "      <td>[]</td>\n",
       "    </tr>\n",
       "    <tr>\n",
       "      <th>1</th>\n",
       "      <td>2495567768</td>\n",
       "      <td>DAILYSANFRAN</td>\n",
       "      <td>Dashcam video shows man launching himself onto...</td>\n",
       "      <td>0</td>\n",
       "      <td>NewsFeed</td>\n",
       "      <td>[]</td>\n",
       "    </tr>\n",
       "    <tr>\n",
       "      <th>2</th>\n",
       "      <td>2495567768</td>\n",
       "      <td>DAILYSANFRAN</td>\n",
       "      <td>Man Arrested For Setting Fire To South SF Medi...</td>\n",
       "      <td>0</td>\n",
       "      <td>NewsFeed</td>\n",
       "      <td>[]</td>\n",
       "    </tr>\n",
       "    <tr>\n",
       "      <th>3</th>\n",
       "      <td>2495567768</td>\n",
       "      <td>DAILYSANFRAN</td>\n",
       "      <td>Practical tips to achieving your New Year's re...</td>\n",
       "      <td>0</td>\n",
       "      <td>NewsFeed</td>\n",
       "      <td>[]</td>\n",
       "    </tr>\n",
       "    <tr>\n",
       "      <th>4</th>\n",
       "      <td>2495567768</td>\n",
       "      <td>DAILYSANFRAN</td>\n",
       "      <td>Couple disappears during trip to Big Sur</td>\n",
       "      <td>0</td>\n",
       "      <td>NewsFeed</td>\n",
       "      <td>[]</td>\n",
       "    </tr>\n",
       "  </tbody>\n",
       "</table>\n",
       "</div>"
      ],
      "text/plain": [
       "   external_author_id        author  \\\n",
       "0          2495567768  DAILYSANFRAN   \n",
       "1          2495567768  DAILYSANFRAN   \n",
       "2          2495567768  DAILYSANFRAN   \n",
       "3          2495567768  DAILYSANFRAN   \n",
       "4          2495567768  DAILYSANFRAN   \n",
       "\n",
       "                                             content  retweet  \\\n",
       "0  Police: Airline pilot found passed out in cock...        0   \n",
       "1  Dashcam video shows man launching himself onto...        0   \n",
       "2  Man Arrested For Setting Fire To South SF Medi...        0   \n",
       "3  Practical tips to achieving your New Year's re...        0   \n",
       "4         Couple disappears during trip to Big Sur          0   \n",
       "\n",
       "  account_category mentions  \n",
       "0         NewsFeed       []  \n",
       "1         NewsFeed       []  \n",
       "2         NewsFeed       []  \n",
       "3         NewsFeed       []  \n",
       "4         NewsFeed       []  "
      ]
     },
     "execution_count": 11,
     "metadata": {},
     "output_type": "execute_result"
    }
   ],
   "source": [
    "def extract_usernames(tweet_content):\n",
    "    \"\"\"Function to extract usernames from tweets, accounting for email addresses\n",
    "    \"\"\"\n",
    "    drop_emails = re.sub(\"[\\w]+@[\\w]+\\.[c][o][m]\", \"\", tweet_content)\n",
    "    mentioned_users = re.findall(\"@([a-zA-Z0-9]{1,15})\", drop_emails)\n",
    "    return mentioned_users\n",
    "\n",
    "# Create test data\n",
    "test_tweets = df[['external_author_id','author',str('content'), 'retweet', 'account_category']]#.sample(50000, random_state=345)\n",
    "\n",
    "# Filter out retweets\n",
    "test_tweets = test_tweets[(test_tweets['retweet'] != 1) & (~test_tweets['content'].str.contains(\"RT\"))]\n",
    "\n",
    "# Apply username extraction function\n",
    "test_tweets['mentions'] = test_tweets['content'].apply(extract_usernames)\n",
    "test_tweets.head()"
   ]
  },
  {
   "cell_type": "markdown",
   "metadata": {},
   "source": [
    "In order to create a graph from this data, we need to unnest the mentions such that each mention represents a pairing between one 'author' and one 'mention'. Each account will represent a node, and each mention will represent an edge between them."
   ]
  },
  {
   "cell_type": "code",
   "execution_count": 12,
   "metadata": {},
   "outputs": [
    {
     "data": {
      "text/html": [
       "<div>\n",
       "<style scoped>\n",
       "    .dataframe tbody tr th:only-of-type {\n",
       "        vertical-align: middle;\n",
       "    }\n",
       "\n",
       "    .dataframe tbody tr th {\n",
       "        vertical-align: top;\n",
       "    }\n",
       "\n",
       "    .dataframe thead th {\n",
       "        text-align: right;\n",
       "    }\n",
       "</style>\n",
       "<table border=\"1\" class=\"dataframe\">\n",
       "  <thead>\n",
       "    <tr style=\"text-align: right;\">\n",
       "      <th></th>\n",
       "      <th>author</th>\n",
       "      <th>mentions</th>\n",
       "      <th>account_category</th>\n",
       "    </tr>\n",
       "  </thead>\n",
       "  <tbody>\n",
       "    <tr>\n",
       "      <th>473</th>\n",
       "      <td>DAILYSANFRAN</td>\n",
       "      <td>UBER</td>\n",
       "      <td>NewsFeed</td>\n",
       "    </tr>\n",
       "    <tr>\n",
       "      <th>27659</th>\n",
       "      <td>DAILYSANJOSE</td>\n",
       "      <td>SANJOSEPD</td>\n",
       "      <td>NewsFeed</td>\n",
       "    </tr>\n",
       "    <tr>\n",
       "      <th>27669</th>\n",
       "      <td>DAILYSANJOSE</td>\n",
       "      <td>WARRIORS</td>\n",
       "      <td>NewsFeed</td>\n",
       "    </tr>\n",
       "    <tr>\n",
       "      <th>28616</th>\n",
       "      <td>DAILYSANJOSE</td>\n",
       "      <td>SANJOSESHARKS</td>\n",
       "      <td>NewsFeed</td>\n",
       "    </tr>\n",
       "    <tr>\n",
       "      <th>28829</th>\n",
       "      <td>DAILYSANJOSE</td>\n",
       "      <td>SANJOSEPD</td>\n",
       "      <td>NewsFeed</td>\n",
       "    </tr>\n",
       "  </tbody>\n",
       "</table>\n",
       "</div>"
      ],
      "text/plain": [
       "             author       mentions account_category\n",
       "473    DAILYSANFRAN           UBER         NewsFeed\n",
       "27659  DAILYSANJOSE      SANJOSEPD         NewsFeed\n",
       "27669  DAILYSANJOSE       WARRIORS         NewsFeed\n",
       "28616  DAILYSANJOSE  SANJOSESHARKS         NewsFeed\n",
       "28829  DAILYSANJOSE      SANJOSEPD         NewsFeed"
      ]
     },
     "execution_count": 12,
     "metadata": {},
     "output_type": "execute_result"
    }
   ],
   "source": [
    "# Unnest multiple username mentions in tweet\n",
    "expanded_mentions = pd.DataFrame({'author':test_tweets['author'].repeat(test_tweets['mentions'].str.len()),\n",
    "                           'mentions':np.concatenate(test_tweets['mentions'].values),\n",
    "                           'account_category':test_tweets['account_category'].repeat(test_tweets['mentions'].str.len())})\n",
    "expanded_mentions['mentions'] = expanded_mentions['mentions'].str.upper()\n",
    "expanded_mentions.head()"
   ]
  },
  {
   "cell_type": "markdown",
   "metadata": {},
   "source": [
    "In this case, we are only interested in mentions of other IRA accounts. Note that sometimes IRA accounts mention themselves in a tweet. INCLUDE EXAMPLES OF THIS?"
   ]
  },
  {
   "cell_type": "code",
   "execution_count": 13,
   "metadata": {},
   "outputs": [
    {
     "data": {
      "text/html": [
       "<div>\n",
       "<style scoped>\n",
       "    .dataframe tbody tr th:only-of-type {\n",
       "        vertical-align: middle;\n",
       "    }\n",
       "\n",
       "    .dataframe tbody tr th {\n",
       "        vertical-align: top;\n",
       "    }\n",
       "\n",
       "    .dataframe thead th {\n",
       "        text-align: right;\n",
       "    }\n",
       "</style>\n",
       "<table border=\"1\" class=\"dataframe\">\n",
       "  <thead>\n",
       "    <tr style=\"text-align: right;\">\n",
       "      <th></th>\n",
       "      <th>author</th>\n",
       "      <th>mentions</th>\n",
       "      <th>account_category</th>\n",
       "    </tr>\n",
       "  </thead>\n",
       "  <tbody>\n",
       "    <tr>\n",
       "      <th>51622</th>\n",
       "      <td>DANAGEEZUS</td>\n",
       "      <td>ANDYHASHTAGGER</td>\n",
       "      <td>HashtagGamer</td>\n",
       "    </tr>\n",
       "    <tr>\n",
       "      <th>51659</th>\n",
       "      <td>DANAGEEZUS</td>\n",
       "      <td>DANAGEEZUS</td>\n",
       "      <td>HashtagGamer</td>\n",
       "    </tr>\n",
       "    <tr>\n",
       "      <th>53928</th>\n",
       "      <td>DANAGEEZUS</td>\n",
       "      <td>CHRIXMORGAN</td>\n",
       "      <td>HashtagGamer</td>\n",
       "    </tr>\n",
       "    <tr>\n",
       "      <th>54453</th>\n",
       "      <td>DANAGEEZUS</td>\n",
       "      <td>CHRIXMORGAN</td>\n",
       "      <td>HashtagGamer</td>\n",
       "    </tr>\n",
       "    <tr>\n",
       "      <th>55662</th>\n",
       "      <td>DANAGEEZUS</td>\n",
       "      <td>CASCASEYP</td>\n",
       "      <td>HashtagGamer</td>\n",
       "    </tr>\n",
       "    <tr>\n",
       "      <th>55864</th>\n",
       "      <td>DANAGEEZUS</td>\n",
       "      <td>CASCASEYP</td>\n",
       "      <td>HashtagGamer</td>\n",
       "    </tr>\n",
       "    <tr>\n",
       "      <th>56097</th>\n",
       "      <td>DANAGEEZUS</td>\n",
       "      <td>ANDYHASHTAGGER</td>\n",
       "      <td>HashtagGamer</td>\n",
       "    </tr>\n",
       "    <tr>\n",
       "      <th>56495</th>\n",
       "      <td>DANAGEEZUS</td>\n",
       "      <td>CHRIXMORGAN</td>\n",
       "      <td>HashtagGamer</td>\n",
       "    </tr>\n",
       "    <tr>\n",
       "      <th>57534</th>\n",
       "      <td>DANAGEEZUS</td>\n",
       "      <td>ANDYHASHTAGGER</td>\n",
       "      <td>HashtagGamer</td>\n",
       "    </tr>\n",
       "    <tr>\n",
       "      <th>58785</th>\n",
       "      <td>DANAGEEZUS</td>\n",
       "      <td>ANDYHASHTAGGER</td>\n",
       "      <td>HashtagGamer</td>\n",
       "    </tr>\n",
       "    <tr>\n",
       "      <th>58800</th>\n",
       "      <td>DANAGEEZUS</td>\n",
       "      <td>ANDYHASHTAGGER</td>\n",
       "      <td>HashtagGamer</td>\n",
       "    </tr>\n",
       "    <tr>\n",
       "      <th>59281</th>\n",
       "      <td>DANAGEEZUS</td>\n",
       "      <td>ANTIEHARMON</td>\n",
       "      <td>HashtagGamer</td>\n",
       "    </tr>\n",
       "    <tr>\n",
       "      <th>59304</th>\n",
       "      <td>DANAGEEZUS</td>\n",
       "      <td>ANDYHASHTAGGER</td>\n",
       "      <td>HashtagGamer</td>\n",
       "    </tr>\n",
       "    <tr>\n",
       "      <th>59385</th>\n",
       "      <td>DANAGEEZUS</td>\n",
       "      <td>DANAGEEZUS</td>\n",
       "      <td>HashtagGamer</td>\n",
       "    </tr>\n",
       "    <tr>\n",
       "      <th>59387</th>\n",
       "      <td>DANAGEEZUS</td>\n",
       "      <td>ANDYHASHTAGGER</td>\n",
       "      <td>HashtagGamer</td>\n",
       "    </tr>\n",
       "    <tr>\n",
       "      <th>59624</th>\n",
       "      <td>DANAGEEZUS</td>\n",
       "      <td>DANAGEEZUS</td>\n",
       "      <td>HashtagGamer</td>\n",
       "    </tr>\n",
       "    <tr>\n",
       "      <th>59637</th>\n",
       "      <td>DANAGEEZUS</td>\n",
       "      <td>ANDYHASHTAGGER</td>\n",
       "      <td>HashtagGamer</td>\n",
       "    </tr>\n",
       "    <tr>\n",
       "      <th>59829</th>\n",
       "      <td>DANAGEEZUS</td>\n",
       "      <td>DANAGEEZUS</td>\n",
       "      <td>HashtagGamer</td>\n",
       "    </tr>\n",
       "    <tr>\n",
       "      <th>60170</th>\n",
       "      <td>DANAGEEZUS</td>\n",
       "      <td>ANDYHASHTAGGER</td>\n",
       "      <td>HashtagGamer</td>\n",
       "    </tr>\n",
       "    <tr>\n",
       "      <th>61066</th>\n",
       "      <td>DANAGEEZUS</td>\n",
       "      <td>CHRIXMORGAN</td>\n",
       "      <td>HashtagGamer</td>\n",
       "    </tr>\n",
       "    <tr>\n",
       "      <th>61511</th>\n",
       "      <td>DANAGEEZUS</td>\n",
       "      <td>CURTISBIGMAN</td>\n",
       "      <td>HashtagGamer</td>\n",
       "    </tr>\n",
       "    <tr>\n",
       "      <th>61860</th>\n",
       "      <td>DANAGEEZUS</td>\n",
       "      <td>CHRIXMORGAN</td>\n",
       "      <td>HashtagGamer</td>\n",
       "    </tr>\n",
       "    <tr>\n",
       "      <th>62933</th>\n",
       "      <td>DANAGEEZUS</td>\n",
       "      <td>ANDYHASHTAGGER</td>\n",
       "      <td>HashtagGamer</td>\n",
       "    </tr>\n",
       "    <tr>\n",
       "      <th>90138</th>\n",
       "      <td>DAVBOYD_</td>\n",
       "      <td>DONNABRIVERA</td>\n",
       "      <td>RightTroll</td>\n",
       "    </tr>\n",
       "    <tr>\n",
       "      <th>133142</th>\n",
       "      <td>DEUSXYX</td>\n",
       "      <td>CYNTHIAMHUNTER</td>\n",
       "      <td>RightTroll</td>\n",
       "    </tr>\n",
       "    <tr>\n",
       "      <th>135209</th>\n",
       "      <td>DEVINEDEVINBR</td>\n",
       "      <td>ARCHIEOLIVERS</td>\n",
       "      <td>RightTroll</td>\n",
       "    </tr>\n",
       "    <tr>\n",
       "      <th>138065</th>\n",
       "      <td>DICKYIRWIN</td>\n",
       "      <td>BGARNER2107</td>\n",
       "      <td>HashtagGamer</td>\n",
       "    </tr>\n",
       "    <tr>\n",
       "      <th>161516</th>\n",
       "      <td>DONTSHOOTCOM</td>\n",
       "      <td>DONTSHOOTCOM</td>\n",
       "      <td>LeftTroll</td>\n",
       "    </tr>\n",
       "    <tr>\n",
       "      <th>164585</th>\n",
       "      <td>DOROTHIEBELL</td>\n",
       "      <td>DONNABRIVERA</td>\n",
       "      <td>RightTroll</td>\n",
       "    </tr>\n",
       "    <tr>\n",
       "      <th>164587</th>\n",
       "      <td>DOROTHIEBELL</td>\n",
       "      <td>DONNABRIVERA</td>\n",
       "      <td>RightTroll</td>\n",
       "    </tr>\n",
       "    <tr>\n",
       "      <th>...</th>\n",
       "      <td>...</td>\n",
       "      <td>...</td>\n",
       "      <td>...</td>\n",
       "    </tr>\n",
       "    <tr>\n",
       "      <th>8995</th>\n",
       "      <td>4MYSQUAD</td>\n",
       "      <td>4MYSQUAD</td>\n",
       "      <td>LeftTroll</td>\n",
       "    </tr>\n",
       "    <tr>\n",
       "      <th>9754</th>\n",
       "      <td>4MYSQUAD</td>\n",
       "      <td>4MYSQUAD</td>\n",
       "      <td>LeftTroll</td>\n",
       "    </tr>\n",
       "    <tr>\n",
       "      <th>15088</th>\n",
       "      <td>ABIGAILSSILK</td>\n",
       "      <td>DANBR00KS</td>\n",
       "      <td>HashtagGamer</td>\n",
       "    </tr>\n",
       "    <tr>\n",
       "      <th>15211</th>\n",
       "      <td>ABIGAILSSILK</td>\n",
       "      <td>DANBR00KS</td>\n",
       "      <td>HashtagGamer</td>\n",
       "    </tr>\n",
       "    <tr>\n",
       "      <th>15228</th>\n",
       "      <td>ABIGAILSSILK</td>\n",
       "      <td>DANBR00KS</td>\n",
       "      <td>HashtagGamer</td>\n",
       "    </tr>\n",
       "    <tr>\n",
       "      <th>36035</th>\n",
       "      <td>ADRGREERR</td>\n",
       "      <td>CHESTERCITYNEWS</td>\n",
       "      <td>LeftTroll</td>\n",
       "    </tr>\n",
       "    <tr>\n",
       "      <th>89183</th>\n",
       "      <td>AMANDAVGREEN</td>\n",
       "      <td>CHRIXMORGAN</td>\n",
       "      <td>HashtagGamer</td>\n",
       "    </tr>\n",
       "    <tr>\n",
       "      <th>144985</th>\n",
       "      <td>ANDROFAG</td>\n",
       "      <td>BYDRBRE</td>\n",
       "      <td>NonEnglish</td>\n",
       "    </tr>\n",
       "    <tr>\n",
       "      <th>147800</th>\n",
       "      <td>ANDYHASHTAGGER</td>\n",
       "      <td>ANDYHASHTAGGER</td>\n",
       "      <td>HashtagGamer</td>\n",
       "    </tr>\n",
       "    <tr>\n",
       "      <th>148827</th>\n",
       "      <td>ANDYHASHTAGGER</td>\n",
       "      <td>CHRIXMORGAN</td>\n",
       "      <td>HashtagGamer</td>\n",
       "    </tr>\n",
       "    <tr>\n",
       "      <th>151149</th>\n",
       "      <td>ANDYHASHTAGGER</td>\n",
       "      <td>DANAGEEZUS</td>\n",
       "      <td>HashtagGamer</td>\n",
       "    </tr>\n",
       "    <tr>\n",
       "      <th>151149</th>\n",
       "      <td>ANDYHASHTAGGER</td>\n",
       "      <td>DANAGEEZUS</td>\n",
       "      <td>HashtagGamer</td>\n",
       "    </tr>\n",
       "    <tr>\n",
       "      <th>151150</th>\n",
       "      <td>ANDYHASHTAGGER</td>\n",
       "      <td>DANAGEEZUS</td>\n",
       "      <td>HashtagGamer</td>\n",
       "    </tr>\n",
       "    <tr>\n",
       "      <th>151662</th>\n",
       "      <td>ANDYHASHTAGGER</td>\n",
       "      <td>DANAGEEZUS</td>\n",
       "      <td>HashtagGamer</td>\n",
       "    </tr>\n",
       "    <tr>\n",
       "      <th>151698</th>\n",
       "      <td>ANDYHASHTAGGER</td>\n",
       "      <td>DANAGEEZUS</td>\n",
       "      <td>HashtagGamer</td>\n",
       "    </tr>\n",
       "    <tr>\n",
       "      <th>152676</th>\n",
       "      <td>ANDYHASHTAGGER</td>\n",
       "      <td>DANAGEEZUS</td>\n",
       "      <td>HashtagGamer</td>\n",
       "    </tr>\n",
       "    <tr>\n",
       "      <th>154759</th>\n",
       "      <td>ANDYHASHTAGGER</td>\n",
       "      <td>AIDEN7757</td>\n",
       "      <td>HashtagGamer</td>\n",
       "    </tr>\n",
       "    <tr>\n",
       "      <th>155176</th>\n",
       "      <td>ANDYHASHTAGGER</td>\n",
       "      <td>ARONHOLDEN8</td>\n",
       "      <td>HashtagGamer</td>\n",
       "    </tr>\n",
       "    <tr>\n",
       "      <th>155492</th>\n",
       "      <td>ANDYHASHTAGGER</td>\n",
       "      <td>DANAGEEZUS</td>\n",
       "      <td>HashtagGamer</td>\n",
       "    </tr>\n",
       "    <tr>\n",
       "      <th>155594</th>\n",
       "      <td>ANDYHASHTAGGER</td>\n",
       "      <td>DANAGEEZUS</td>\n",
       "      <td>HashtagGamer</td>\n",
       "    </tr>\n",
       "    <tr>\n",
       "      <th>156333</th>\n",
       "      <td>ANDYHASHTAGGER</td>\n",
       "      <td>DANAGEEZUS</td>\n",
       "      <td>HashtagGamer</td>\n",
       "    </tr>\n",
       "    <tr>\n",
       "      <th>156351</th>\n",
       "      <td>ANDYHASHTAGGER</td>\n",
       "      <td>ANDYDREWDANIELS</td>\n",
       "      <td>HashtagGamer</td>\n",
       "    </tr>\n",
       "    <tr>\n",
       "      <th>156406</th>\n",
       "      <td>ANDYHASHTAGGER</td>\n",
       "      <td>CHRIXMORGAN</td>\n",
       "      <td>HashtagGamer</td>\n",
       "    </tr>\n",
       "    <tr>\n",
       "      <th>156479</th>\n",
       "      <td>ANDYHASHTAGGER</td>\n",
       "      <td>CHRIXMORGAN</td>\n",
       "      <td>HashtagGamer</td>\n",
       "    </tr>\n",
       "    <tr>\n",
       "      <th>156552</th>\n",
       "      <td>ANDYHASHTAGGER</td>\n",
       "      <td>DANAGEEZUS</td>\n",
       "      <td>HashtagGamer</td>\n",
       "    </tr>\n",
       "    <tr>\n",
       "      <th>156553</th>\n",
       "      <td>ANDYHASHTAGGER</td>\n",
       "      <td>DANAGEEZUS</td>\n",
       "      <td>HashtagGamer</td>\n",
       "    </tr>\n",
       "    <tr>\n",
       "      <th>156626</th>\n",
       "      <td>ANDYHASHTAGGER</td>\n",
       "      <td>CHRIXMORGAN</td>\n",
       "      <td>HashtagGamer</td>\n",
       "    </tr>\n",
       "    <tr>\n",
       "      <th>156724</th>\n",
       "      <td>ANDYHASHTAGGER</td>\n",
       "      <td>DANAGEEZUS</td>\n",
       "      <td>HashtagGamer</td>\n",
       "    </tr>\n",
       "    <tr>\n",
       "      <th>157157</th>\n",
       "      <td>ANFINRUDSADIE</td>\n",
       "      <td>ALEXWARNINGU</td>\n",
       "      <td>RightTroll</td>\n",
       "    </tr>\n",
       "    <tr>\n",
       "      <th>198601</th>\n",
       "      <td>AN_N_GASTON</td>\n",
       "      <td>CALEBROBBNS</td>\n",
       "      <td>RightTroll</td>\n",
       "    </tr>\n",
       "  </tbody>\n",
       "</table>\n",
       "<p>187 rows × 3 columns</p>\n",
       "</div>"
      ],
      "text/plain": [
       "                author         mentions account_category\n",
       "51622       DANAGEEZUS   ANDYHASHTAGGER     HashtagGamer\n",
       "51659       DANAGEEZUS       DANAGEEZUS     HashtagGamer\n",
       "53928       DANAGEEZUS      CHRIXMORGAN     HashtagGamer\n",
       "54453       DANAGEEZUS      CHRIXMORGAN     HashtagGamer\n",
       "55662       DANAGEEZUS        CASCASEYP     HashtagGamer\n",
       "55864       DANAGEEZUS        CASCASEYP     HashtagGamer\n",
       "56097       DANAGEEZUS   ANDYHASHTAGGER     HashtagGamer\n",
       "56495       DANAGEEZUS      CHRIXMORGAN     HashtagGamer\n",
       "57534       DANAGEEZUS   ANDYHASHTAGGER     HashtagGamer\n",
       "58785       DANAGEEZUS   ANDYHASHTAGGER     HashtagGamer\n",
       "58800       DANAGEEZUS   ANDYHASHTAGGER     HashtagGamer\n",
       "59281       DANAGEEZUS      ANTIEHARMON     HashtagGamer\n",
       "59304       DANAGEEZUS   ANDYHASHTAGGER     HashtagGamer\n",
       "59385       DANAGEEZUS       DANAGEEZUS     HashtagGamer\n",
       "59387       DANAGEEZUS   ANDYHASHTAGGER     HashtagGamer\n",
       "59624       DANAGEEZUS       DANAGEEZUS     HashtagGamer\n",
       "59637       DANAGEEZUS   ANDYHASHTAGGER     HashtagGamer\n",
       "59829       DANAGEEZUS       DANAGEEZUS     HashtagGamer\n",
       "60170       DANAGEEZUS   ANDYHASHTAGGER     HashtagGamer\n",
       "61066       DANAGEEZUS      CHRIXMORGAN     HashtagGamer\n",
       "61511       DANAGEEZUS     CURTISBIGMAN     HashtagGamer\n",
       "61860       DANAGEEZUS      CHRIXMORGAN     HashtagGamer\n",
       "62933       DANAGEEZUS   ANDYHASHTAGGER     HashtagGamer\n",
       "90138         DAVBOYD_     DONNABRIVERA       RightTroll\n",
       "133142         DEUSXYX   CYNTHIAMHUNTER       RightTroll\n",
       "135209   DEVINEDEVINBR    ARCHIEOLIVERS       RightTroll\n",
       "138065      DICKYIRWIN      BGARNER2107     HashtagGamer\n",
       "161516    DONTSHOOTCOM     DONTSHOOTCOM        LeftTroll\n",
       "164585    DOROTHIEBELL     DONNABRIVERA       RightTroll\n",
       "164587    DOROTHIEBELL     DONNABRIVERA       RightTroll\n",
       "...                ...              ...              ...\n",
       "8995          4MYSQUAD         4MYSQUAD        LeftTroll\n",
       "9754          4MYSQUAD         4MYSQUAD        LeftTroll\n",
       "15088     ABIGAILSSILK        DANBR00KS     HashtagGamer\n",
       "15211     ABIGAILSSILK        DANBR00KS     HashtagGamer\n",
       "15228     ABIGAILSSILK        DANBR00KS     HashtagGamer\n",
       "36035        ADRGREERR  CHESTERCITYNEWS        LeftTroll\n",
       "89183     AMANDAVGREEN      CHRIXMORGAN     HashtagGamer\n",
       "144985        ANDROFAG          BYDRBRE       NonEnglish\n",
       "147800  ANDYHASHTAGGER   ANDYHASHTAGGER     HashtagGamer\n",
       "148827  ANDYHASHTAGGER      CHRIXMORGAN     HashtagGamer\n",
       "151149  ANDYHASHTAGGER       DANAGEEZUS     HashtagGamer\n",
       "151149  ANDYHASHTAGGER       DANAGEEZUS     HashtagGamer\n",
       "151150  ANDYHASHTAGGER       DANAGEEZUS     HashtagGamer\n",
       "151662  ANDYHASHTAGGER       DANAGEEZUS     HashtagGamer\n",
       "151698  ANDYHASHTAGGER       DANAGEEZUS     HashtagGamer\n",
       "152676  ANDYHASHTAGGER       DANAGEEZUS     HashtagGamer\n",
       "154759  ANDYHASHTAGGER        AIDEN7757     HashtagGamer\n",
       "155176  ANDYHASHTAGGER      ARONHOLDEN8     HashtagGamer\n",
       "155492  ANDYHASHTAGGER       DANAGEEZUS     HashtagGamer\n",
       "155594  ANDYHASHTAGGER       DANAGEEZUS     HashtagGamer\n",
       "156333  ANDYHASHTAGGER       DANAGEEZUS     HashtagGamer\n",
       "156351  ANDYHASHTAGGER  ANDYDREWDANIELS     HashtagGamer\n",
       "156406  ANDYHASHTAGGER      CHRIXMORGAN     HashtagGamer\n",
       "156479  ANDYHASHTAGGER      CHRIXMORGAN     HashtagGamer\n",
       "156552  ANDYHASHTAGGER       DANAGEEZUS     HashtagGamer\n",
       "156553  ANDYHASHTAGGER       DANAGEEZUS     HashtagGamer\n",
       "156626  ANDYHASHTAGGER      CHRIXMORGAN     HashtagGamer\n",
       "156724  ANDYHASHTAGGER       DANAGEEZUS     HashtagGamer\n",
       "157157   ANFINRUDSADIE     ALEXWARNINGU       RightTroll\n",
       "198601     AN_N_GASTON      CALEBROBBNS       RightTroll\n",
       "\n",
       "[187 rows x 3 columns]"
      ]
     },
     "execution_count": 13,
     "metadata": {},
     "output_type": "execute_result"
    }
   ],
   "source": [
    "# Select only mentions of IRA accounts.\n",
    "IRA_authors = df['author'].unique()\n",
    "\n",
    "expanded_IRA_mentions = expanded_mentions[(expanded_mentions['mentions'].isin(IRA_authors))]\n",
    "expanded_IRA_mentions"
   ]
  },
  {
   "cell_type": "markdown",
   "metadata": {},
   "source": [
    "This network of mentions can be visualized using NetworkX. This is a directed graph, where the direction of the arrow represents a mention."
   ]
  },
  {
   "cell_type": "code",
   "execution_count": 14,
   "metadata": {},
   "outputs": [
    {
     "data": {
      "image/png": "[encoded data removed]",
      "text/plain": [
       "<Figure size 432x288 with 1 Axes>"
      ]
     },
     "metadata": {},
     "output_type": "display_data"
    }
   ],
   "source": [
    "G=nx.from_pandas_edgelist(expanded_IRA_mentions,source='author',target='mentions',\n",
    "                         edge_attr=True, create_using=nx.MultiDiGraph)\n",
    "nx.draw(G, with_labels=True)"
   ]
  },
  {
   "cell_type": "markdown",
   "metadata": {},
   "source": [
    "I am interested in betweenness centrality, which measures which users act as \"bridges\" between the network. For a more in-depth coverage of network measures, see https://cambridge-intelligence.com/keylines-faqs-social-network-analysis/."
   ]
  },
  {
   "cell_type": "code",
   "execution_count": 15,
   "metadata": {},
   "outputs": [
    {
     "data": {
      "text/plain": [
       "{'DANAGEEZUS': 0.003423317683881064,\n",
       " 'ANDYHASHTAGGER': 0.005477308294209703,\n",
       " 'CHRIXMORGAN': 0.001564945226917058,\n",
       " 'CASCASEYP': 0.0,\n",
       " 'ANTIEHARMON': 0.0,\n",
       " 'CURTISBIGMAN': 0.0,\n",
       " 'DAVBOYD_': 0.0,\n",
       " 'DONNABRIVERA': 0.0,\n",
       " 'DEUSXYX': 0.0,\n",
       " 'CYNTHIAMHUNTER': 0.0,\n",
       " 'DEVINEDEVINBR': 0.0,\n",
       " 'ARCHIEOLIVERS': 0.0,\n",
       " 'DICKYIRWIN': 0.0,\n",
       " 'BGARNER2107': 0.0010758998435054772,\n",
       " 'DONTSHOOTCOM': 0.0,\n",
       " 'DOROTHIEBELL': 0.0,\n",
       " 'ELIASBRICK': 0.0,\n",
       " 'CAMDENCITYNEWS': 0.0,\n",
       " 'CHESTERCITYNEWS': 0.0,\n",
       " 'ELISAAGREG': 0.0,\n",
       " 'AMAMCAMCAM': 0.0,\n",
       " 'ERICARUTTER': 0.0,\n",
       " 'ERNESTINEEALVAR': 0.0,\n",
       " 'DRGREGORYWEST': 0.0,\n",
       " 'BERGERJAMIE75': 0.0005868544600938967,\n",
       " 'BAYOFTAMARA': 0.0,\n",
       " 'ABIGAILSSILK': 0.0005868544600938967,\n",
       " 'BIZGOD': 0.0,\n",
       " 'CAITLINMILLSYUP': 0.0011737089201877935,\n",
       " 'BLACK4UNITY': 0.0,\n",
       " 'BLACKTOLIVE': 0.0,\n",
       " 'BLACKEYEBLOG': 0.0,\n",
       " 'BLACKMATTERSUS': 0.0,\n",
       " 'CRYSTAL1JOHNSON': 0.0003912363067292645,\n",
       " 'BLACKNEWSOUTLET': 0.0,\n",
       " 'BLACNEIGHBOR': 0.0,\n",
       " 'BLEEPTHEPOLICE': 0.0,\n",
       " 'BOOTH_PRINCE': 0.0,\n",
       " 'ELIANLINDSEY': 0.0,\n",
       " 'BRIGHTANDGLORY': 0.0,\n",
       " 'BRIANWARNING': 0.0,\n",
       " 'DUTISITE': 0.0,\n",
       " 'BRONICKIJEWEL': 0.0,\n",
       " 'BRUCIEDUBLIN': 0.0,\n",
       " 'CARMELMELLER': 0.0,\n",
       " 'CAMOSASEKO': 0.0,\n",
       " 'CARRIETHORNTHON': 0.0,\n",
       " 'CHESPLAYSCHESS': 0.0,\n",
       " 'CARSONYEARLY': 0.0,\n",
       " 'CHICAGOBL': 0.0,\n",
       " 'CHRIS_SOLO_RIO': 0.0,\n",
       " 'CLIFTONHUGHES_': 0.0,\n",
       " 'COLBYST1': 0.0003912363067292645,\n",
       " 'CARLOSSAMANOS': 0.0,\n",
       " 'COOKNCOOKS': 0.0,\n",
       " 'CORNELLBURCHET': 0.0,\n",
       " 'ADAMCHAPMANJR': 0.0,\n",
       " 'CRYSTAL_JOHNS0N': 0.0,\n",
       " 'C__WELLS': 0.0,\n",
       " '1D_NICOLE_': 0.0,\n",
       " '4MYSQUAD': 0.0,\n",
       " 'DANBR00KS': 0.0,\n",
       " 'ADRGREERR': 0.0,\n",
       " 'AMANDAVGREEN': 0.0,\n",
       " 'ANDROFAG': 0.0,\n",
       " 'BYDRBRE': 0.0,\n",
       " 'AIDEN7757': 0.0,\n",
       " 'ARONHOLDEN8': 0.0,\n",
       " 'ANDYDREWDANIELS': 0.0,\n",
       " 'ANFINRUDSADIE': 0.0,\n",
       " 'ALEXWARNINGU': 0.0,\n",
       " 'AN_N_GASTON': 0.0,\n",
       " 'CALEBROBBNS': 0.0}"
      ]
     },
     "execution_count": 15,
     "metadata": {},
     "output_type": "execute_result"
    }
   ],
   "source": [
    "bet_cent = nx.betweenness_centrality(G, normalized = True)\n",
    "bet_cent"
   ]
  },
  {
   "cell_type": "code",
   "execution_count": 16,
   "metadata": {},
   "outputs": [
    {
     "data": {
      "text/plain": [
       "(-1.1496972532673533,\n",
       " 1.1787275470198435,\n",
       " -1.173806550937894,\n",
       " 1.2065608034827864)"
      ]
     },
     "execution_count": 16,
     "metadata": {},
     "output_type": "execute_result"
    },
    {
     "data": {
      "image/png": "[encoded data removed]",
      "text/plain": [
       "<Figure size 360x360 with 1 Axes>"
      ]
     },
     "metadata": {
      "needs_background": "light"
     },
     "output_type": "display_data"
    }
   ],
   "source": [
    "pos = nx.spring_layout(G)\n",
    "betCent = nx.betweenness_centrality(G, normalized=True, endpoints=True)\n",
    "node_color = [20000.0 * G.degree(v) for v in G]\n",
    "node_size =  [v * 10000 for v in betCent.values()]\n",
    "plt.figure(figsize=(5,5))\n",
    "nx.draw_networkx(G, pos=pos, with_labels=False,\n",
    "                 node_color=node_color,\n",
    "                 node_size=node_size )\n",
    "plt.axis('off')\n",
    "\n",
    "#code adapted from https://www.datacamp.com/community/tutorials/social-network-analysis-python"
   ]
  },
  {
   "cell_type": "code",
   "execution_count": 17,
   "metadata": {
    "scrolled": true
   },
   "outputs": [
    {
     "data": {
      "text/plain": [
       "['ANDYHASHTAGGER',\n",
       " 'DANAGEEZUS',\n",
       " 'CHRIXMORGAN',\n",
       " 'BOOTH_PRINCE',\n",
       " 'CAITLINMILLSYUP']"
      ]
     },
     "execution_count": 17,
     "metadata": {},
     "output_type": "execute_result"
    }
   ],
   "source": [
    "sorted(betCent, key=betCent.get, reverse=True)[:5]"
   ]
  },
  {
   "cell_type": "code",
   "execution_count": null,
   "metadata": {},
   "outputs": [],
   "source": []
  },
  {
   "cell_type": "code",
   "execution_count": null,
   "metadata": {},
   "outputs": [],
   "source": []
  },
  {
   "cell_type": "markdown",
   "metadata": {},
   "source": [
    "# Key Influencers \n",
    "\n",
    "We can see that there are a few accounts which stand out as being influential. What are their common characteristics?"
   ]
  },
  {
   "cell_type": "markdown",
   "metadata": {},
   "source": [
    "# Topic Detection\n",
    "\n",
    "LDA resources: https://www.kaggle.com/errearanhas/topic-modelling-lda-on-elon-tweets\n",
    "\n",
    "https://towardsdatascience.com/topic-modelling-in-python-with-nltk-and-gensim-4ef03213cd21\n",
    "\n",
    "http://blog.echen.me/2011/08/22/introduction-to-latent-dirichlet-allocation/\n",
    "\n",
    "\n",
    "\n"
   ]
  },
  {
   "cell_type": "markdown",
   "metadata": {},
   "source": [
    "## Clean Text"
   ]
  },
  {
   "cell_type": "code",
   "execution_count": 18,
   "metadata": {},
   "outputs": [
    {
     "data": {
      "text/plain": [
       "['Police',\n",
       " ':',\n",
       " 'Airline',\n",
       " 'pilot',\n",
       " 'found',\n",
       " 'passed',\n",
       " 'out',\n",
       " 'in',\n",
       " 'cockpit',\n",
       " 'was',\n",
       " 'drunk']"
      ]
     },
     "execution_count": 18,
     "metadata": {},
     "output_type": "execute_result"
    }
   ],
   "source": [
    "# Create tokens from tweet\n",
    "tokenizer = TweetTokenizer(strip_handles=True, reduce_len = True)\n",
    "tokenizer.tokenize(df['content'].iloc[0])"
   ]
  },
  {
   "cell_type": "code",
   "execution_count": 47,
   "metadata": {},
   "outputs": [],
   "source": [
    "# Use Wordnet for meaning/synonyms/antonyms/lemmatizer(base of word)\n",
    "from nltk.corpus import wordnet as wn\n",
    "def get_lemma(word):\n",
    "    lemma = wn.morphy(word)\n",
    "    if lemma is None:\n",
    "        return word\n",
    "    else: \n",
    "        return lemma\n",
    "\n",
    "from nltk.stem.wordnet import WordNetLemmatizer\n",
    "def get_lemma2(word):\n",
    "    return WordNetLemmatizer().lemmatize(word)"
   ]
  },
  {
   "cell_type": "code",
   "execution_count": 48,
   "metadata": {},
   "outputs": [],
   "source": [
    "# Filter out stopwords\n",
    "en_stop = set(nltk.corpus.stopwords.words('english'))"
   ]
  },
  {
   "cell_type": "code",
   "execution_count": 54,
   "metadata": {},
   "outputs": [],
   "source": [
    "# Function to tie together previous functions and process text\n",
    "def prepare_text_for_lda(text):\n",
    "    tokens = tokenizer.tokenize(text)\n",
    "    tokens = [token for token in tokens if len(token) > 4]\n",
    "    tokens = [token for token in tokens if token not in en_stop]\n",
    "    tokens = [get_lemma(token) for token in tokens]\n",
    "    return tokens"
   ]
  },
  {
   "cell_type": "code",
   "execution_count": 55,
   "metadata": {},
   "outputs": [],
   "source": [
    "def convert_text_data(f):\n",
    "    text_data = []\n",
    "    for line in f:\n",
    "        tokens = prepare_text_for_lda(line)\n",
    "#        if random.random() > .99:\n",
    "        text_data.append(tokens)    # indent if previous line correct\n",
    "    return text_data\n",
    "            \n",
    "text_data = convert_text_data(df['content'])"
   ]
  },
  {
   "cell_type": "code",
   "execution_count": 161,
   "metadata": {},
   "outputs": [
    {
     "data": {
      "text/plain": [
       "['Police', 'Airline', 'pilot', 'found', 'pass', 'cockpit', 'drunk']"
      ]
     },
     "execution_count": 161,
     "metadata": {},
     "output_type": "execute_result"
    }
   ],
   "source": [
    "text_data[0]"
   ]
  },
  {
   "cell_type": "code",
   "execution_count": 97,
   "metadata": {},
   "outputs": [],
   "source": [
    "from gensim.models import Word2Vec\n",
    "\n",
    "model = Word2Vec(text_data, size=150, window=10, min_count=2, workers=10)\n",
    "# Don't train again! model.train(text_data, total_examples=len(text_data), epochs=10)\n",
    "word_vectors = model.wv"
   ]
  },
  {
   "cell_type": "code",
   "execution_count": 159,
   "metadata": {},
   "outputs": [
    {
     "data": {
      "text/plain": [
       "[('clinton', 0.6399332880973816),\n",
       " ('trump', 0.6381477117538452),\n",
       " ('amuse', 0.6130398511886597),\n",
       " ('bernie', 0.6036626696586609),\n",
       " ('obama', 0.5923692584037781),\n",
       " ('putin', 0.5911301970481873),\n",
       " ('incompetent', 0.5780301094055176),\n",
       " ('precisely', 0.5747838616371155),\n",
       " ('whine', 0.5746846199035645),\n",
       " ('pathetic', 0.5730102062225342)]"
      ]
     },
     "execution_count": 159,
     "metadata": {},
     "output_type": "execute_result"
    }
   ],
   "source": [
    "result = word_vectors.most_similar(positive=['hillary'], negative = [], topn=10)\n",
    "result"
   ]
  },
  {
   "cell_type": "code",
   "execution_count": 162,
   "metadata": {},
   "outputs": [
    {
     "data": {
      "text/plain": [
       "0.40640613"
      ]
     },
     "execution_count": 162,
     "metadata": {},
     "output_type": "execute_result"
    }
   ],
   "source": [
    "model.wv.similarity(w1 = \"barack\", w2 = \"obama\")"
   ]
  },
  {
   "cell_type": "code",
   "execution_count": null,
   "metadata": {},
   "outputs": [],
   "source": []
  },
  {
   "cell_type": "code",
   "execution_count": null,
   "metadata": {},
   "outputs": [],
   "source": []
  },
  {
   "cell_type": "markdown",
   "metadata": {},
   "source": [
    "## LDA "
   ]
  },
  {
   "cell_type": "code",
   "execution_count": 25,
   "metadata": {},
   "outputs": [],
   "source": [
    "dictionary = corpora.Dictionary(text_data)\n",
    "corpus = [dictionary.doc2bow(text) for text in text_data]"
   ]
  },
  {
   "cell_type": "code",
   "execution_count": 26,
   "metadata": {},
   "outputs": [],
   "source": [
    "pickle.dump(corpus, open('corpus.pkl', 'wb'))\n",
    "dictionary.save('dictionary.gensim')"
   ]
  },
  {
   "cell_type": "code",
   "execution_count": 27,
   "metadata": {},
   "outputs": [],
   "source": [
    "number_of_topics = 30\n",
    "ldamodel = gensim.models.ldamodel.LdaModel(corpus, num_topics = number_of_topics, id2word=dictionary, passes = 1)\n",
    "ldamodel.save('model5.gensim')"
   ]
  },
  {
   "cell_type": "code",
   "execution_count": 28,
   "metadata": {},
   "outputs": [
    {
     "name": "stdout",
     "output_type": "stream",
     "text": [
      "(36,\n",
      " '0.035*\"Terror\" + 0.029*\"Declares\" + 0.023*\"Saturday\" + 0.022*\"track\" + '\n",
      " '0.019*\"Guard\" + 0.016*\"Canada\" + 0.013*\"Night\" + 0.011*\"Coast\" + '\n",
      " '0.008*\"AMERICA\" + 0.005*\"FIGHT\" + 0.005*\"STOOD\" + 0.005*\"Threats\" + '\n",
      " '0.004*\"NOTHING\" + 0.004*\"HOSTAGE\" + 0.004*\"Nuclear\"')\n",
      "(97,\n",
      " '0.043*\"criminal\" + 0.010*\"decent\" + 0.005*\"think\" + 0.003*\"CRIMINAL\" + '\n",
      " '0.001*\"KayHair\" + 0.001*\"She\\'s\" + 0.001*\"Decency\" + 0.000*\"invasion\" + '\n",
      " '0.000*\"appease\" + 0.000*\"Eastern\" + 0.000*\"Crimea\" + 0.000*\"Barrymore\" + '\n",
      " '0.000*\"Decline\" + 0.000*\"CHESNEY\" + 0.000*\"URBAN\"')\n",
      "(35,\n",
      " '0.288*\"protest\" + 0.275*\"march\" + 0.013*\"Force\" + 0.011*\"Health\" + '\n",
      " '0.011*\"billion\" + 0.010*\"expose\" + 0.010*\"Trump\" + 0.009*\"trend\" + '\n",
      " '0.007*\"waste\" + 0.006*\"Rights\" + 0.005*\"Mental\" + 0.005*\"study\" + '\n",
      " '0.005*\"People\" + 0.005*\"reportedly\" + 0.005*\"remind\"')\n",
      "(17,\n",
      " '0.108*\"black\" + 0.058*\"friend\" + 0.054*\"Another\" + 0.036*\"supporter\" + '\n",
      " '0.031*\"light\" + 0.030*\"follow\" + 0.023*\"Trump\" + 0.020*\"Martin\" + '\n",
      " '0.014*\"THANK\" + 0.012*\"Detroit\" + 0.008*\"Supporting\" + 0.007*\"ALERT\" + '\n",
      " '0.006*\"ditch\" + 0.003*\"FOLLOW\" + 0.002*\"O\\'Malley\"')\n",
      "(96,\n",
      " '0.065*\"house\" + 0.019*\"Trade\" + 0.014*\"Bless\" + 0.009*\"week\" + '\n",
      " '0.008*\"civilian\" + 0.007*\"price\" + 0.007*\"deadline\" + 0.004*\"#Veterans\" + '\n",
      " '0.004*\"Wings\" + 0.003*\"Though\" + 0.002*\"still\" + 0.001*\"kill\" + '\n",
      " '0.001*\"can\\'t\" + 0.001*\"Speed\" + 0.001*\"Total\"')\n",
      "(75,\n",
      " '0.161*\"#politics\" + 0.069*\"start\" + 0.045*\"replace\" + 0.019*\"Santa\" + '\n",
      " '0.007*\"manager\" + 0.005*\"retain\" + 0.004*\"Clara\" + 0.003*\"mayor\" + '\n",
      " '0.001*\"council\" + 0.000*\"Crimea\" + 0.000*\"#ClothingFamous\" + '\n",
      " '0.000*\"#MilitaryMonday\" + 0.000*\"Eastern\" + 0.000*\"#Pjnet\" + '\n",
      " '0.000*\"invasion\"')\n",
      "(86,\n",
      " '0.064*\"California\" + 0.049*\"Calls\" + 0.027*\"Trump\" + 0.024*\"elect\" + '\n",
      " '0.019*\"#IStartCryingWhen\" + 0.018*\"Never\" + 0.017*\"Disgraceful\" + '\n",
      " '0.015*\"Million\" + 0.014*\"seriously\" + 0.013*\"Jackson\" + 0.013*\"Movement\" + '\n",
      " '0.012*\"hundred\" + 0.010*\"either\" + 0.008*\"#BlackLivesMatter\" + 0.007*\"mayor\"')\n",
      "(0,\n",
      " '0.400*\"Police\" + 0.115*\"#news\" + 0.031*\"gonna\" + 0.030*\"nothing\" + '\n",
      " '0.026*\"Woman\" + 0.025*\"crash\" + 0.013*\"Responds\" + 0.010*\"ticket\" + '\n",
      " '0.006*\"arrest\" + 0.006*\"Sunday\" + 0.005*\"remark\" + 0.005*\"selling\" + '\n",
      " '0.004*\"kill\" + 0.002*\"stink\" + 0.001*\"following\"')\n",
      "(82,\n",
      " '0.055*\"without\" + 0.022*\"parent\" + 0.019*\"player\" + 0.019*\"details\" + '\n",
      " '0.017*\"figure\" + 0.016*\"care\" + 0.015*\"anyway\" + 0.012*\"football\" + '\n",
      " '0.012*\"#PresidentTrump\" + 0.011*\"still\" + 0.010*\"occur\" + 0.009*\"teeth\" + '\n",
      " '0.008*\"Program\" + 0.008*\"reveal\" + 0.005*\"Modern\"')\n",
      "(51,\n",
      " '0.207*\"America\" + 0.082*\"Video\" + 0.061*\"shooting\" + 0.038*\"release\" + '\n",
      " '0.029*\"public\" + 0.029*\"illegal\" + 0.017*\"fatal\" + 0.013*\"right\" + '\n",
      " '0.005*\"police\" + 0.005*\"Francisco\" + 0.003*\"going\" + 0.002*\"forum\" + '\n",
      " '0.002*\"bias\" + 0.002*\"Subway\" + 0.001*\"throat\"')\n",
      "(79,\n",
      " '0.065*\"Don\\'t\" + 0.058*\"found\" + 0.043*\"guilty\" + 0.039*\"different\" + '\n",
      " '0.032*\"things\" + 0.032*\"face\" + 0.024*\"Obama\\'s\" + 0.022*\"Power\" + '\n",
      " '0.022*\"friend\" + 0.016*\"Having\" + 0.013*\"coffee\" + 0.008*\"Australian\" + '\n",
      " '0.006*\"Meltdown\" + 0.005*\"Secretary\" + 0.005*\"#News\"')\n",
      "(78,\n",
      " '0.074*\"stand\" + 0.052*\"These\" + 0.036*\"United\" + 0.025*\"justice\" + '\n",
      " '0.016*\"song\" + 0.016*\"weekend\" + 0.014*\"Airlines\" + 0.012*\"official\" + '\n",
      " '0.012*\"plane\" + 0.010*\"leaving\" + 0.010*\"#entertainment\" + 0.010*\"accuse\" + '\n",
      " '0.010*\"Millions\" + 0.009*\"mouth\" + 0.008*\"people\"')\n",
      "(65,\n",
      " '0.106*\"POTUS\" + 0.090*\"child\" + 0.059*\"suspect\" + 0.049*\"murder\" + '\n",
      " '0.042*\"include\" + 0.018*\"abuse\" + 0.015*\"#TrumpTrain\" + '\n",
      " '0.012*\"#TheResistance\" + 0.005*\"#ElPaso\" + 0.004*\"allege\" + 0.002*\"criminal\" '\n",
      " '+ 0.001*\"#MAGA\" + 0.001*\"PROBLEM\" + 0.001*\"JimRobinson\" + 0.001*\"Cruces\"')\n",
      "(13,\n",
      " '0.283*\"Behind\" + 0.074*\"House\" + 0.038*\"White\" + 0.032*\"Trump\" + '\n",
      " '0.028*\"Congress\" + 0.026*\"campaign\" + 0.024*\"Support\" + 0.022*\"Check\" + '\n",
      " '0.021*\"Being\" + 0.019*\"Republicans\" + 0.017*\"looking\" + 0.014*\"point\" + '\n",
      " '0.014*\"tonight\" + 0.013*\"Facebook\" + 0.011*\"message\"')\n",
      "(76,\n",
      " '0.080*\"officer\" + 0.048*\"making\" + 0.046*\"police\" + 0.027*\"phone\" + '\n",
      " '0.019*\"steal\" + 0.018*\"winner\" + 0.011*\"passenger\" + 0.008*\"train\" + '\n",
      " '0.007*\"Britain\\'s\" + 0.005*\"station\" + 0.004*\"inside\" + 0.003*\"disappear\" + '\n",
      " '0.002*\"Talent\" + 0.002*\"stun\" + 0.001*\"#Foke\"')\n",
      "(63,\n",
      " '0.261*\"remember\" + 0.241*\"heading\" + 0.058*\"first\" + 0.035*\"Russia\" + '\n",
      " '0.023*\"National\" + 0.017*\"Washington\" + 0.015*\"something\" + 0.013*\"Vegas\" + '\n",
      " '0.009*\"Robert\" + 0.008*\"spending\" + 0.007*\"interest\" + 0.007*\"front\" + '\n",
      " '0.005*\"Public\" + 0.005*\"Syria\" + 0.004*\"IngrahamAngle\"')\n",
      "(74,\n",
      " '0.033*\"three\" + 0.031*\"Lawyer\" + 0.016*\"Apple\" + 0.008*\"debut\" + '\n",
      " '0.002*\"Acura\" + 0.001*\"Trump\" + 0.001*\"concept\" + 0.001*\"#daopp\" + '\n",
      " '0.001*\"Slipstreaming\" + 0.001*\"#breaking\" + 0.001*\"Remade\" + 0.001*\"Detroit\" '\n",
      " '+ 0.001*\"Special\" + 0.001*\"GROSS\" + 0.001*\"ABUSE\"')\n",
      "(44,\n",
      " '0.091*\"Korea\" + 0.085*\"North\" + 0.035*\"Illegal\" + 0.019*\"federal\" + '\n",
      " '0.016*\"RIGHT\" + 0.014*\"Service\" + 0.013*\"disaster\" + 0.012*\"celebrity\" + '\n",
      " '0.012*\"religion\" + 0.007*\"election\" + 0.007*\"Sounds\" + 0.007*\"failure\" + '\n",
      " '0.006*\"practice\" + 0.006*\"Latino\" + 0.005*\"Rubio\"')\n",
      "(67,\n",
      " '0.248*\"racist\" + 0.220*\"national\" + 0.219*\"Matters\" + 0.009*\"Media\" + '\n",
      " '0.007*\"Robert\" + 0.006*\"Prison\" + 0.005*\"Charles\" + 0.005*\"Supremacist\" + '\n",
      " '0.005*\"daughter\" + 0.004*\"Another\" + 0.004*\"Trump\" + 0.003*\"Left-Wing\" + '\n",
      " '0.003*\"Enemy\" + 0.003*\"Grand\" + 0.003*\"#FakeNewsMedia\"')\n",
      "(49,\n",
      " '0.059*\"person\" + 0.053*\"return\" + 0.048*\"government\" + 0.043*\"throw\" + '\n",
      " '0.023*\"thousand\" + 0.016*\"Tuesday\" + 0.016*\"treat\" + 0.010*\"session\" + '\n",
      " '0.009*\"drug\" + 0.009*\"deadly\" + 0.009*\"marijuana\" + '\n",
      " '0.007*\"#IHaveARightToKnow\" + 0.005*\"pitch\" + 0.002*\"successful\" + '\n",
      " '0.001*\"years\"')\n"
     ]
    }
   ],
   "source": [
    "topics = ldamodel.print_topics(num_words=10)\n",
    "for topic in topics:\n",
    "    pprint(topic)"
   ]
  },
  {
   "cell_type": "code",
   "execution_count": 30,
   "metadata": {},
   "outputs": [
    {
     "name": "stderr",
     "output_type": "stream",
     "text": [
      "/Library/Frameworks/Python.framework/Versions/3.7/lib/python3.7/site-packages/pyLDAvis/_prepare.py:257: FutureWarning: Sorting because non-concatenation axis is not aligned. A future version\n",
      "of pandas will change to not sort by default.\n",
      "\n",
      "To accept the future behavior, pass 'sort=False'.\n",
      "\n",
      "To retain the current behavior and silence the warning, pass 'sort=True'.\n",
      "\n",
      "  return pd.concat([default_term_info] + list(topic_dfs))\n",
      "/Library/Frameworks/Python.framework/Versions/3.7/lib/python3.7/site-packages/IPython/html.py:14: ShimWarning: The `IPython.html` package has been deprecated since IPython 4.0. You should import from `notebook` instead. `IPython.html.widgets` has moved to `ipywidgets`.\n",
      "  \"`IPython.html.widgets` has moved to `ipywidgets`.\", ShimWarning)\n"
     ]
    }
   ],
   "source": [
    "dictionary = gensim.corpora.Dictionary.load('dictionary.gensim')\n",
    "corpus = pickle.load(open('corpus.pkl', 'rb'))\n",
    "lda = gensim.models.ldamodel.LdaModel.load('model5.gensim')\n",
    "lda_display = pyLDAvis.gensim.prepare(lda, corpus, dictionary, sort_topics=False)\n",
    "pyLDAvis.enable_notebook(lda_display)"
   ]
  },
  {
   "cell_type": "code",
   "execution_count": null,
   "metadata": {},
   "outputs": [],
   "source": []
  },
  {
   "cell_type": "code",
   "execution_count": null,
   "metadata": {},
   "outputs": [],
   "source": []
  },
  {
   "cell_type": "markdown",
   "metadata": {},
   "source": [
    "# Sentiment Analysis\n",
    "\n",
    "Previous studies have show that influential Twitter accounts tend to have a distinct sentiment. We will be using VADER:  \"VADER (Valence Aware Dictionary and sEntiment Reasoner) is a lexicon and rule-based sentiment analysis tool that is specifically attuned to sentiments expressed in social media.\"\n",
    "\n",
    "Define: positive, negative, neutral - score percentage of each category\n",
    "        compound - single score representing the sentiment (-1 negative, 0 neutral, 1 positive)"
   ]
  },
  {
   "cell_type": "code",
   "execution_count": null,
   "metadata": {},
   "outputs": [],
   "source": [
    "tweet_text = test_tweets['content'].sample(n=100000, random_state = 210)"
   ]
  },
  {
   "cell_type": "code",
   "execution_count": null,
   "metadata": {},
   "outputs": [],
   "source": [
    "from nltk.sentiment.vader import SentimentIntensityAnalyzer as SIA\n",
    "\n",
    "sia = SIA()\n",
    "sentiment_values = []\n",
    "\n",
    "for tweet in tweet_text:\n",
    "    pol_score = sia.polarity_scores(tweet)\n",
    "    pol_score['tweet'] = tweet\n",
    "    sentiment_values.append(pol_score)"
   ]
  },
  {
   "cell_type": "code",
   "execution_count": null,
   "metadata": {},
   "outputs": [],
   "source": [
    "pd.set_option('display.max_colwidth', -1)\n",
    "\n",
    "sentiment = pd.DataFrame.from_records(sentiment_values)\n",
    "sentiment.head(n=10)"
   ]
  },
  {
   "cell_type": "markdown",
   "metadata": {},
   "source": [
    "There is not a uniform distribution of sentiment among tweets. Most tweets are either neutral or negative:\n",
    "\n",
    "NOTE: this pdf is misleading since algorithm is biased towards 0"
   ]
  },
  {
   "cell_type": "code",
   "execution_count": null,
   "metadata": {},
   "outputs": [],
   "source": [
    "sns.distplot(sentiment['compound'])\n",
    "plt.axvline(.2, 0, 1,linestyle = '--')\n",
    "plt.axvline(-.2, 0, 1,linestyle = '--')"
   ]
  },
  {
   "cell_type": "markdown",
   "metadata": {},
   "source": [
    "In order to further analyze this dataset, we are going to split the tweets into positive or negative, ignoring the neutral tweets for now. We will use +/-0.2 as the cutoff, as seen above."
   ]
  },
  {
   "cell_type": "code",
   "execution_count": null,
   "metadata": {},
   "outputs": [],
   "source": [
    "sentiment['label'] = 0\n",
    "sentiment.loc[sentiment['compound'] > 0.2, 'label'] = 1\n",
    "sentiment.loc[sentiment['compound'] < -0.2, 'label'] = -1\n",
    "sentiment.head()"
   ]
  },
  {
   "cell_type": "code",
   "execution_count": null,
   "metadata": {},
   "outputs": [],
   "source": [
    "pd.set_option('display.max_colwidth', -1)\n",
    "\n",
    "print(\"Positive headlines:\\n\")\n",
    "print(sentiment.loc[sentiment['label'] == 1].head())\n",
    "\n",
    "print(\"Negative headlines:\\n\")\n",
    "print(sentiment.loc[sentiment['label'] == -1].head())\n",
    "\n",
    "# This section needs serious reformatting"
   ]
  },
  {
   "cell_type": "code",
   "execution_count": null,
   "metadata": {},
   "outputs": [],
   "source": [
    "fig, ax = plt.subplots(figsize=(8, 8))\n",
    "\n",
    "counts = sentiment.label.value_counts(normalize=True) * 100\n",
    "\n",
    "sns.barplot(x=counts.index, y=counts, ax=ax)\n",
    "\n",
    "ax.set_xticklabels(['Negative', 'Neutral', 'Positive'])\n",
    "ax.set_ylabel(\"Percentage\")\n",
    "\n",
    "plt.show()"
   ]
  },
  {
   "cell_type": "code",
   "execution_count": null,
   "metadata": {},
   "outputs": [],
   "source": []
  },
  {
   "cell_type": "markdown",
   "metadata": {},
   "source": [
    "# Things to Investigate / Incorporate\n",
    "\n",
    "    Strong postive correlation between followers - following.\n",
    "    \n",
    "    There is a hashtagger account named \"Andy Hashtagger\"\n",
    "    \n",
    "    \"Flatulence and global warming: are we farting ourselves into extinction? #RejectedDebateTopics\"\n",
    "    \n",
    "    1. Create new features\n",
    "        a. botometer score of mentioned accts which are still active\n",
    "        b. sentiment score of tweets\n",
    "        c. some ratio of followers/following/participation\n",
    "        d. import news channels and see who mentions which news channels\n",
    "    2. Use these features to predict updates\n",
    "    \n",
    "    What states do these people list in their bio? Does that correlate with anything?\n",
    "    \n",
    "    Do positive sentiment tweets containing words relating to psuedoscience count as endorsement?"
   ]
  },
  {
   "cell_type": "code",
   "execution_count": null,
   "metadata": {},
   "outputs": [],
   "source": []
  },
  {
   "cell_type": "code",
   "execution_count": null,
   "metadata": {},
   "outputs": [],
   "source": []
  },
  {
   "cell_type": "code",
   "execution_count": null,
   "metadata": {},
   "outputs": [],
   "source": []
  },
  {
   "cell_type": "code",
   "execution_count": null,
   "metadata": {},
   "outputs": [],
   "source": []
  },
  {
   "cell_type": "code",
   "execution_count": null,
   "metadata": {},
   "outputs": [],
   "source": []
  },
  {
   "cell_type": "code",
   "execution_count": null,
   "metadata": {},
   "outputs": [],
   "source": [
    "\n"
   ]
  },
  {
   "cell_type": "code",
   "execution_count": null,
   "metadata": {},
   "outputs": [],
   "source": [
    "\n"
   ]
  },
  {
   "cell_type": "code",
   "execution_count": null,
   "metadata": {},
   "outputs": [],
   "source": []
  },
  {
   "cell_type": "code",
   "execution_count": null,
   "metadata": {},
   "outputs": [],
   "source": []
  },
  {
   "cell_type": "code",
   "execution_count": null,
   "metadata": {},
   "outputs": [],
   "source": []
  }
 ],
 "metadata": {
  "kernelspec": {
   "display_name": "Python 3",
   "language": "python",
   "name": "python3"
  },
  "language_info": {
   "codemirror_mode": {
    "name": "ipython",
    "version": 3
   },
   "file_extension": ".py",
   "mimetype": "text/x-python",
   "name": "python",
   "nbconvert_exporter": "python",
   "pygments_lexer": "ipython3",
   "version": "3.7.2"
  },
  "toc": {
   "base_numbering": 1,
   "nav_menu": {},
   "number_sections": true,
   "sideBar": true,
   "skip_h1_title": false,
   "title_cell": "Table of Contents",
   "title_sidebar": "Contents",
   "toc_cell": false,
   "toc_position": {},
   "toc_section_display": true,
   "toc_window_display": false
  }
 },
 "nbformat": 4,
 "nbformat_minor": 2
}
