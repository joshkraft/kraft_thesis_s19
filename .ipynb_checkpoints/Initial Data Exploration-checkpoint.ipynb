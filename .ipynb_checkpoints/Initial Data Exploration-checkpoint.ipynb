{
 "cells": [
  {
   "cell_type": "markdown",
   "metadata": {},
   "source": [
    "\n"
   ]
  },
  {
   "cell_type": "code",
   "execution_count": null,
   "metadata": {},
   "outputs": [],
   "source": []
  },
  {
   "cell_type": "code",
   "execution_count": null,
   "metadata": {},
   "outputs": [],
   "source": []
  },
  {
   "cell_type": "markdown",
   "metadata": {},
   "source": [
    "# Import Data\n",
    "\n",
    "First, we are going to import a small subset of the total data for exploratory data analysis. We are only interested in the tweets written in English."
   ]
  },
  {
   "cell_type": "code",
   "execution_count": 43,
   "metadata": {},
   "outputs": [],
   "source": [
    "# Import Packages\n",
    "import pandas as pd\n",
    "import networkx as nx\n",
    "import matplotlib.pyplot as plt\n",
    "import numpy as np\n",
    "import re"
   ]
  },
  {
   "cell_type": "code",
   "execution_count": 2,
   "metadata": {},
   "outputs": [],
   "source": [
    "# Import all data\n",
    "IRA_csv = pd.read_csv(\"Data/IRAhandle_tweets_1.csv\")\n",
    "\n",
    "# Select tweets in English\n",
    "df = IRA_csv.copy()[IRA_csv['language'] == \"English\"]\n",
    "\n",
    "# Convert date\n",
    "df['publish_date'] = pd.to_datetime(df['publish_date'])\n",
    "\n",
    "# Set index to date + sort\n",
    "df.set_index('publish_date', inplace = True)\n",
    "df.sort_index(inplace=True)"
   ]
  },
  {
   "cell_type": "code",
   "execution_count": 3,
   "metadata": {
    "scrolled": false
   },
   "outputs": [
    {
     "data": {
      "text/html": [
       "<div>\n",
       "<style scoped>\n",
       "    .dataframe tbody tr th:only-of-type {\n",
       "        vertical-align: middle;\n",
       "    }\n",
       "\n",
       "    .dataframe tbody tr th {\n",
       "        vertical-align: top;\n",
       "    }\n",
       "\n",
       "    .dataframe thead th {\n",
       "        text-align: right;\n",
       "    }\n",
       "</style>\n",
       "<table border=\"1\" class=\"dataframe\">\n",
       "  <thead>\n",
       "    <tr style=\"text-align: right;\">\n",
       "      <th></th>\n",
       "      <th>external_author_id</th>\n",
       "      <th>author</th>\n",
       "      <th>content</th>\n",
       "      <th>region</th>\n",
       "      <th>language</th>\n",
       "      <th>harvested_date</th>\n",
       "      <th>following</th>\n",
       "      <th>followers</th>\n",
       "      <th>updates</th>\n",
       "      <th>post_type</th>\n",
       "      <th>account_type</th>\n",
       "      <th>retweet</th>\n",
       "      <th>account_category</th>\n",
       "      <th>new_june_2018</th>\n",
       "      <th>alt_external_id</th>\n",
       "      <th>tweet_id</th>\n",
       "      <th>article_url</th>\n",
       "      <th>tco1_step1</th>\n",
       "      <th>tco2_step1</th>\n",
       "      <th>tco3_step1</th>\n",
       "    </tr>\n",
       "    <tr>\n",
       "      <th>publish_date</th>\n",
       "      <th></th>\n",
       "      <th></th>\n",
       "      <th></th>\n",
       "      <th></th>\n",
       "      <th></th>\n",
       "      <th></th>\n",
       "      <th></th>\n",
       "      <th></th>\n",
       "      <th></th>\n",
       "      <th></th>\n",
       "      <th></th>\n",
       "      <th></th>\n",
       "      <th></th>\n",
       "      <th></th>\n",
       "      <th></th>\n",
       "      <th></th>\n",
       "      <th></th>\n",
       "      <th></th>\n",
       "      <th></th>\n",
       "      <th></th>\n",
       "    </tr>\n",
       "  </thead>\n",
       "  <tbody>\n",
       "    <tr>\n",
       "      <th>2014-11-27 09:59:00</th>\n",
       "      <td>2534421182</td>\n",
       "      <td>ABIGAILSSILK</td>\n",
       "      <td>WHAT`S WRONG WITH THIS WORLD??! It`s time to s...</td>\n",
       "      <td>United States</td>\n",
       "      <td>English</td>\n",
       "      <td>11/27/2014 9:59</td>\n",
       "      <td>158</td>\n",
       "      <td>79</td>\n",
       "      <td>261</td>\n",
       "      <td>RETWEET</td>\n",
       "      <td>Hashtager</td>\n",
       "      <td>1</td>\n",
       "      <td>HashtagGamer</td>\n",
       "      <td>0</td>\n",
       "      <td>2534421182</td>\n",
       "      <td>537908506720886785</td>\n",
       "      <td>http://twitter.com/abigailssilk/statuses/53790...</td>\n",
       "      <td>https://twitter.com/JennaTraveller/status/5379...</td>\n",
       "      <td>NaN</td>\n",
       "      <td>NaN</td>\n",
       "    </tr>\n",
       "    <tr>\n",
       "      <th>2014-11-27 17:13:00</th>\n",
       "      <td>2534421182</td>\n",
       "      <td>ABIGAILSSILK</td>\n",
       "      <td>Happy Thanksgiving! Thank you  @JennaTraveller...</td>\n",
       "      <td>United States</td>\n",
       "      <td>English</td>\n",
       "      <td>11/27/2014 17:13</td>\n",
       "      <td>158</td>\n",
       "      <td>79</td>\n",
       "      <td>262</td>\n",
       "      <td>RETWEET</td>\n",
       "      <td>Hashtager</td>\n",
       "      <td>1</td>\n",
       "      <td>HashtagGamer</td>\n",
       "      <td>0</td>\n",
       "      <td>2534421182</td>\n",
       "      <td>538017841682083840</td>\n",
       "      <td>http://twitter.com/abigailssilk/statuses/53801...</td>\n",
       "      <td>https://twitter.com/andrewdrew_s/status/538016...</td>\n",
       "      <td>NaN</td>\n",
       "      <td>NaN</td>\n",
       "    </tr>\n",
       "    <tr>\n",
       "      <th>2014-11-27 17:21:00</th>\n",
       "      <td>2534421182</td>\n",
       "      <td>ABIGAILSSILK</td>\n",
       "      <td>#WhyImThankful dinner is my favourite part of ...</td>\n",
       "      <td>United States</td>\n",
       "      <td>English</td>\n",
       "      <td>11/27/2014 17:21</td>\n",
       "      <td>158</td>\n",
       "      <td>79</td>\n",
       "      <td>263</td>\n",
       "      <td>RETWEET</td>\n",
       "      <td>Hashtager</td>\n",
       "      <td>1</td>\n",
       "      <td>HashtagGamer</td>\n",
       "      <td>0</td>\n",
       "      <td>2534421182</td>\n",
       "      <td>538019747355701250</td>\n",
       "      <td>http://twitter.com/abigailssilk/statuses/53801...</td>\n",
       "      <td>https://twitter.com/andrewdrew_s/status/538019...</td>\n",
       "      <td>NaN</td>\n",
       "      <td>NaN</td>\n",
       "    </tr>\n",
       "    <tr>\n",
       "      <th>2014-11-28 09:06:00</th>\n",
       "      <td>2534421182</td>\n",
       "      <td>ABIGAILSSILK</td>\n",
       "      <td>Excuse me terribly sorry to bother you but I w...</td>\n",
       "      <td>United States</td>\n",
       "      <td>English</td>\n",
       "      <td>11/28/2014 9:06</td>\n",
       "      <td>158</td>\n",
       "      <td>78</td>\n",
       "      <td>265</td>\n",
       "      <td>NaN</td>\n",
       "      <td>Hashtager</td>\n",
       "      <td>0</td>\n",
       "      <td>HashtagGamer</td>\n",
       "      <td>0</td>\n",
       "      <td>2534421182</td>\n",
       "      <td>538257515796893696</td>\n",
       "      <td>http://twitter.com/abigailssilk/statuses/53825...</td>\n",
       "      <td>NaN</td>\n",
       "      <td>NaN</td>\n",
       "      <td>NaN</td>\n",
       "    </tr>\n",
       "    <tr>\n",
       "      <th>2014-11-28 09:06:00</th>\n",
       "      <td>2534421182</td>\n",
       "      <td>ABIGAILSSILK</td>\n",
       "      <td>I ain't shoulder leaning, I ain't snapping and...</td>\n",
       "      <td>United States</td>\n",
       "      <td>English</td>\n",
       "      <td>11/28/2014 9:06</td>\n",
       "      <td>158</td>\n",
       "      <td>78</td>\n",
       "      <td>264</td>\n",
       "      <td>NaN</td>\n",
       "      <td>Hashtager</td>\n",
       "      <td>0</td>\n",
       "      <td>HashtagGamer</td>\n",
       "      <td>0</td>\n",
       "      <td>2534421182</td>\n",
       "      <td>538257494787620865</td>\n",
       "      <td>http://twitter.com/abigailssilk/statuses/53825...</td>\n",
       "      <td>NaN</td>\n",
       "      <td>NaN</td>\n",
       "      <td>NaN</td>\n",
       "    </tr>\n",
       "  </tbody>\n",
       "</table>\n",
       "</div>"
      ],
      "text/plain": [
       "                     external_author_id        author  \\\n",
       "publish_date                                            \n",
       "2014-11-27 09:59:00          2534421182  ABIGAILSSILK   \n",
       "2014-11-27 17:13:00          2534421182  ABIGAILSSILK   \n",
       "2014-11-27 17:21:00          2534421182  ABIGAILSSILK   \n",
       "2014-11-28 09:06:00          2534421182  ABIGAILSSILK   \n",
       "2014-11-28 09:06:00          2534421182  ABIGAILSSILK   \n",
       "\n",
       "                                                               content  \\\n",
       "publish_date                                                             \n",
       "2014-11-27 09:59:00  WHAT`S WRONG WITH THIS WORLD??! It`s time to s...   \n",
       "2014-11-27 17:13:00  Happy Thanksgiving! Thank you  @JennaTraveller...   \n",
       "2014-11-27 17:21:00  #WhyImThankful dinner is my favourite part of ...   \n",
       "2014-11-28 09:06:00  Excuse me terribly sorry to bother you but I w...   \n",
       "2014-11-28 09:06:00  I ain't shoulder leaning, I ain't snapping and...   \n",
       "\n",
       "                            region language    harvested_date  following  \\\n",
       "publish_date                                                               \n",
       "2014-11-27 09:59:00  United States  English   11/27/2014 9:59        158   \n",
       "2014-11-27 17:13:00  United States  English  11/27/2014 17:13        158   \n",
       "2014-11-27 17:21:00  United States  English  11/27/2014 17:21        158   \n",
       "2014-11-28 09:06:00  United States  English   11/28/2014 9:06        158   \n",
       "2014-11-28 09:06:00  United States  English   11/28/2014 9:06        158   \n",
       "\n",
       "                     followers  updates post_type account_type  retweet  \\\n",
       "publish_date                                                              \n",
       "2014-11-27 09:59:00         79      261   RETWEET    Hashtager        1   \n",
       "2014-11-27 17:13:00         79      262   RETWEET    Hashtager        1   \n",
       "2014-11-27 17:21:00         79      263   RETWEET    Hashtager        1   \n",
       "2014-11-28 09:06:00         78      265       NaN    Hashtager        0   \n",
       "2014-11-28 09:06:00         78      264       NaN    Hashtager        0   \n",
       "\n",
       "                    account_category  new_june_2018  alt_external_id  \\\n",
       "publish_date                                                           \n",
       "2014-11-27 09:59:00     HashtagGamer              0       2534421182   \n",
       "2014-11-27 17:13:00     HashtagGamer              0       2534421182   \n",
       "2014-11-27 17:21:00     HashtagGamer              0       2534421182   \n",
       "2014-11-28 09:06:00     HashtagGamer              0       2534421182   \n",
       "2014-11-28 09:06:00     HashtagGamer              0       2534421182   \n",
       "\n",
       "                               tweet_id  \\\n",
       "publish_date                              \n",
       "2014-11-27 09:59:00  537908506720886785   \n",
       "2014-11-27 17:13:00  538017841682083840   \n",
       "2014-11-27 17:21:00  538019747355701250   \n",
       "2014-11-28 09:06:00  538257515796893696   \n",
       "2014-11-28 09:06:00  538257494787620865   \n",
       "\n",
       "                                                           article_url  \\\n",
       "publish_date                                                             \n",
       "2014-11-27 09:59:00  http://twitter.com/abigailssilk/statuses/53790...   \n",
       "2014-11-27 17:13:00  http://twitter.com/abigailssilk/statuses/53801...   \n",
       "2014-11-27 17:21:00  http://twitter.com/abigailssilk/statuses/53801...   \n",
       "2014-11-28 09:06:00  http://twitter.com/abigailssilk/statuses/53825...   \n",
       "2014-11-28 09:06:00  http://twitter.com/abigailssilk/statuses/53825...   \n",
       "\n",
       "                                                            tco1_step1  \\\n",
       "publish_date                                                             \n",
       "2014-11-27 09:59:00  https://twitter.com/JennaTraveller/status/5379...   \n",
       "2014-11-27 17:13:00  https://twitter.com/andrewdrew_s/status/538016...   \n",
       "2014-11-27 17:21:00  https://twitter.com/andrewdrew_s/status/538019...   \n",
       "2014-11-28 09:06:00                                                NaN   \n",
       "2014-11-28 09:06:00                                                NaN   \n",
       "\n",
       "                    tco2_step1 tco3_step1  \n",
       "publish_date                               \n",
       "2014-11-27 09:59:00        NaN        NaN  \n",
       "2014-11-27 17:13:00        NaN        NaN  \n",
       "2014-11-27 17:21:00        NaN        NaN  \n",
       "2014-11-28 09:06:00        NaN        NaN  \n",
       "2014-11-28 09:06:00        NaN        NaN  "
      ]
     },
     "execution_count": 3,
     "metadata": {},
     "output_type": "execute_result"
    }
   ],
   "source": [
    "df.head()"
   ]
  },
  {
   "cell_type": "code",
   "execution_count": 4,
   "metadata": {},
   "outputs": [],
   "source": [
    "# Rolling mean columns for plotting\n",
    "df['updates1000ma'] = df['updates'].rolling(1000).mean()"
   ]
  },
  {
   "cell_type": "code",
   "execution_count": null,
   "metadata": {},
   "outputs": [],
   "source": []
  },
  {
   "cell_type": "code",
   "execution_count": 5,
   "metadata": {},
   "outputs": [],
   "source": []
  },
  {
   "cell_type": "code",
   "execution_count": 6,
   "metadata": {},
   "outputs": [
    {
     "name": "stdout",
     "output_type": "stream",
     "text": [
      "account_category\n",
      "RightTroll      905766560\n",
      "LeftTroll       149916375\n",
      "HashtagGamer    119631323\n",
      "NewsFeed         76405859\n",
      "NonEnglish       15883304\n",
      "Unknown            165611\n",
      "Fearmonger         155184\n",
      "Commercial          70718\n",
      "Name: updates, dtype: int64\n"
     ]
    }
   ],
   "source": [
    "df_cat_updates = df.groupby('account_category')['updates'].sum().sort_values(ascending=False)\n",
    "\n",
    "print(df_cat_updates)"
   ]
  },
  {
   "cell_type": "code",
   "execution_count": 23,
   "metadata": {},
   "outputs": [
    {
     "data": {
      "image/png": "[encoded data removed]",
      "text/plain": [
       "<Figure size 432x288 with 1 Axes>"
      ]
     },
     "metadata": {
      "needs_background": "light"
     },
     "output_type": "display_data"
    }
   ],
   "source": [
    "cat_plot = df_cat_updates.plot.bar()"
   ]
  },
  {
   "cell_type": "code",
   "execution_count": null,
   "metadata": {},
   "outputs": [],
   "source": []
  },
  {
   "cell_type": "code",
   "execution_count": 8,
   "metadata": {},
   "outputs": [
    {
     "data": {
      "text/plain": [
       "<matplotlib.axes._subplots.AxesSubplot at 0x127862a20>"
      ]
     },
     "execution_count": 8,
     "metadata": {},
     "output_type": "execute_result"
    },
    {
     "data": {
      "image/png": "[encoded data removed]",
      "text/plain": [
       "<Figure size 576x360 with 1 Axes>"
      ]
     },
     "metadata": {
      "needs_background": "light"
     },
     "output_type": "display_data"
    }
   ],
   "source": [
    "graph_df.plot(figsize=(8,5))"
   ]
  },
  {
   "cell_type": "code",
   "execution_count": null,
   "metadata": {},
   "outputs": [],
   "source": []
  },
  {
   "cell_type": "code",
   "execution_count": null,
   "metadata": {},
   "outputs": [],
   "source": []
  },
  {
   "cell_type": "code",
   "execution_count": 11,
   "metadata": {},
   "outputs": [
    {
     "data": {
      "text/html": [
       "<div>\n",
       "<style scoped>\n",
       "    .dataframe tbody tr th:only-of-type {\n",
       "        vertical-align: middle;\n",
       "    }\n",
       "\n",
       "    .dataframe tbody tr th {\n",
       "        vertical-align: top;\n",
       "    }\n",
       "\n",
       "    .dataframe thead th {\n",
       "        text-align: right;\n",
       "    }\n",
       "</style>\n",
       "<table border=\"1\" class=\"dataframe\">\n",
       "  <thead>\n",
       "    <tr style=\"text-align: right;\">\n",
       "      <th></th>\n",
       "      <th>external_author_id</th>\n",
       "      <th>following</th>\n",
       "      <th>followers</th>\n",
       "      <th>updates</th>\n",
       "      <th>retweet</th>\n",
       "      <th>new_june_2018</th>\n",
       "      <th>alt_external_id</th>\n",
       "      <th>tweet_id</th>\n",
       "      <th>updates1000ma</th>\n",
       "    </tr>\n",
       "  </thead>\n",
       "  <tbody>\n",
       "    <tr>\n",
       "      <th>count</th>\n",
       "      <td>1.902520e+05</td>\n",
       "      <td>190252.000000</td>\n",
       "      <td>190252.000000</td>\n",
       "      <td>190252.000000</td>\n",
       "      <td>190252.000000</td>\n",
       "      <td>190252.000000</td>\n",
       "      <td>1.902520e+05</td>\n",
       "      <td>1.902520e+05</td>\n",
       "      <td>189253.000000</td>\n",
       "    </tr>\n",
       "    <tr>\n",
       "      <th>mean</th>\n",
       "      <td>2.711996e+17</td>\n",
       "      <td>2336.039926</td>\n",
       "      <td>2649.535658</td>\n",
       "      <td>6664.817894</td>\n",
       "      <td>0.557061</td>\n",
       "      <td>0.104256</td>\n",
       "      <td>2.712156e+17</td>\n",
       "      <td>7.980574e+17</td>\n",
       "      <td>6693.132338</td>\n",
       "    </tr>\n",
       "    <tr>\n",
       "      <th>std</th>\n",
       "      <td>4.090159e+17</td>\n",
       "      <td>3994.378085</td>\n",
       "      <td>5264.291980</td>\n",
       "      <td>8963.273711</td>\n",
       "      <td>0.496735</td>\n",
       "      <td>0.305594</td>\n",
       "      <td>4.090404e+17</td>\n",
       "      <td>9.539194e+16</td>\n",
       "      <td>5625.911033</td>\n",
       "    </tr>\n",
       "    <tr>\n",
       "      <th>min</th>\n",
       "      <td>3.497640e+07</td>\n",
       "      <td>0.000000</td>\n",
       "      <td>0.000000</td>\n",
       "      <td>1.000000</td>\n",
       "      <td>0.000000</td>\n",
       "      <td>0.000000</td>\n",
       "      <td>3.497640e+07</td>\n",
       "      <td>5.379085e+17</td>\n",
       "      <td>196.662000</td>\n",
       "    </tr>\n",
       "    <tr>\n",
       "      <th>25%</th>\n",
       "      <td>1.679279e+09</td>\n",
       "      <td>77.000000</td>\n",
       "      <td>133.000000</td>\n",
       "      <td>886.000000</td>\n",
       "      <td>0.000000</td>\n",
       "      <td>0.000000</td>\n",
       "      <td>1.679279e+09</td>\n",
       "      <td>7.445466e+17</td>\n",
       "      <td>1854.023000</td>\n",
       "    </tr>\n",
       "    <tr>\n",
       "      <th>50%</th>\n",
       "      <td>2.570250e+09</td>\n",
       "      <td>1007.000000</td>\n",
       "      <td>744.000000</td>\n",
       "      <td>2956.000000</td>\n",
       "      <td>1.000000</td>\n",
       "      <td>0.000000</td>\n",
       "      <td>2.570250e+09</td>\n",
       "      <td>8.160522e+17</td>\n",
       "      <td>5436.794000</td>\n",
       "    </tr>\n",
       "    <tr>\n",
       "      <th>75%</th>\n",
       "      <td>8.910000e+17</td>\n",
       "      <td>2335.000000</td>\n",
       "      <td>2466.000000</td>\n",
       "      <td>8649.000000</td>\n",
       "      <td>1.000000</td>\n",
       "      <td>0.000000</td>\n",
       "      <td>8.912025e+17</td>\n",
       "      <td>8.946032e+17</td>\n",
       "      <td>10020.101000</td>\n",
       "    </tr>\n",
       "    <tr>\n",
       "      <th>max</th>\n",
       "      <td>9.060000e+17</td>\n",
       "      <td>21843.000000</td>\n",
       "      <td>23890.000000</td>\n",
       "      <td>69979.000000</td>\n",
       "      <td>1.000000</td>\n",
       "      <td>1.000000</td>\n",
       "      <td>9.058747e+17</td>\n",
       "      <td>9.766389e+17</td>\n",
       "      <td>24378.556000</td>\n",
       "    </tr>\n",
       "  </tbody>\n",
       "</table>\n",
       "</div>"
      ],
      "text/plain": [
       "       external_author_id      following      followers        updates  \\\n",
       "count        1.902520e+05  190252.000000  190252.000000  190252.000000   \n",
       "mean         2.711996e+17    2336.039926    2649.535658    6664.817894   \n",
       "std          4.090159e+17    3994.378085    5264.291980    8963.273711   \n",
       "min          3.497640e+07       0.000000       0.000000       1.000000   \n",
       "25%          1.679279e+09      77.000000     133.000000     886.000000   \n",
       "50%          2.570250e+09    1007.000000     744.000000    2956.000000   \n",
       "75%          8.910000e+17    2335.000000    2466.000000    8649.000000   \n",
       "max          9.060000e+17   21843.000000   23890.000000   69979.000000   \n",
       "\n",
       "             retweet  new_june_2018  alt_external_id      tweet_id  \\\n",
       "count  190252.000000  190252.000000     1.902520e+05  1.902520e+05   \n",
       "mean        0.557061       0.104256     2.712156e+17  7.980574e+17   \n",
       "std         0.496735       0.305594     4.090404e+17  9.539194e+16   \n",
       "min         0.000000       0.000000     3.497640e+07  5.379085e+17   \n",
       "25%         0.000000       0.000000     1.679279e+09  7.445466e+17   \n",
       "50%         1.000000       0.000000     2.570250e+09  8.160522e+17   \n",
       "75%         1.000000       0.000000     8.912025e+17  8.946032e+17   \n",
       "max         1.000000       1.000000     9.058747e+17  9.766389e+17   \n",
       "\n",
       "       updates1000ma  \n",
       "count  189253.000000  \n",
       "mean     6693.132338  \n",
       "std      5625.911033  \n",
       "min       196.662000  \n",
       "25%      1854.023000  \n",
       "50%      5436.794000  \n",
       "75%     10020.101000  \n",
       "max     24378.556000  "
      ]
     },
     "execution_count": 11,
     "metadata": {},
     "output_type": "execute_result"
    }
   ],
   "source": [
    "df.describe()"
   ]
  },
  {
   "cell_type": "code",
   "execution_count": 12,
   "metadata": {},
   "outputs": [],
   "source": [
    "accounts_max = df.groupby(['account_category', 'author']).max()"
   ]
  },
  {
   "cell_type": "code",
   "execution_count": 13,
   "metadata": {},
   "outputs": [
    {
     "data": {
      "text/html": [
       "<div>\n",
       "<style scoped>\n",
       "    .dataframe tbody tr th:only-of-type {\n",
       "        vertical-align: middle;\n",
       "    }\n",
       "\n",
       "    .dataframe tbody tr th {\n",
       "        vertical-align: top;\n",
       "    }\n",
       "\n",
       "    .dataframe thead th {\n",
       "        text-align: right;\n",
       "    }\n",
       "</style>\n",
       "<table border=\"1\" class=\"dataframe\">\n",
       "  <thead>\n",
       "    <tr style=\"text-align: right;\">\n",
       "      <th></th>\n",
       "      <th>alt_external_id</th>\n",
       "      <th>external_author_id</th>\n",
       "      <th>followers</th>\n",
       "      <th>following</th>\n",
       "      <th>new_june_2018</th>\n",
       "      <th>retweet</th>\n",
       "      <th>tweet_id</th>\n",
       "      <th>updates</th>\n",
       "      <th>updates1000ma</th>\n",
       "    </tr>\n",
       "  </thead>\n",
       "  <tbody>\n",
       "    <tr>\n",
       "      <th>count</th>\n",
       "      <td>2.490000e+02</td>\n",
       "      <td>2.490000e+02</td>\n",
       "      <td>249.000000</td>\n",
       "      <td>249.000000</td>\n",
       "      <td>249.000000</td>\n",
       "      <td>249.000000</td>\n",
       "      <td>2.490000e+02</td>\n",
       "      <td>249.000000</td>\n",
       "      <td>249.000000</td>\n",
       "    </tr>\n",
       "    <tr>\n",
       "      <th>mean</th>\n",
       "      <td>3.024771e+17</td>\n",
       "      <td>3.025013e+17</td>\n",
       "      <td>705.257028</td>\n",
       "      <td>981.393574</td>\n",
       "      <td>0.285141</td>\n",
       "      <td>0.823293</td>\n",
       "      <td>7.740919e+17</td>\n",
       "      <td>2263.919679</td>\n",
       "      <td>8041.356811</td>\n",
       "    </tr>\n",
       "    <tr>\n",
       "      <th>std</th>\n",
       "      <td>4.179341e+17</td>\n",
       "      <td>4.179680e+17</td>\n",
       "      <td>2273.605614</td>\n",
       "      <td>1991.073836</td>\n",
       "      <td>0.452391</td>\n",
       "      <td>0.382189</td>\n",
       "      <td>1.074534e+17</td>\n",
       "      <td>5652.591184</td>\n",
       "      <td>6458.641149</td>\n",
       "    </tr>\n",
       "    <tr>\n",
       "      <th>min</th>\n",
       "      <td>3.497640e+07</td>\n",
       "      <td>3.497640e+07</td>\n",
       "      <td>0.000000</td>\n",
       "      <td>0.000000</td>\n",
       "      <td>0.000000</td>\n",
       "      <td>0.000000</td>\n",
       "      <td>5.985325e+17</td>\n",
       "      <td>3.000000</td>\n",
       "      <td>491.221000</td>\n",
       "    </tr>\n",
       "    <tr>\n",
       "      <th>25%</th>\n",
       "      <td>2.176657e+09</td>\n",
       "      <td>2.176657e+09</td>\n",
       "      <td>51.000000</td>\n",
       "      <td>60.000000</td>\n",
       "      <td>0.000000</td>\n",
       "      <td>1.000000</td>\n",
       "      <td>6.717084e+17</td>\n",
       "      <td>336.000000</td>\n",
       "      <td>2720.573000</td>\n",
       "    </tr>\n",
       "    <tr>\n",
       "      <th>50%</th>\n",
       "      <td>2.592433e+09</td>\n",
       "      <td>2.592433e+09</td>\n",
       "      <td>135.000000</td>\n",
       "      <td>284.000000</td>\n",
       "      <td>0.000000</td>\n",
       "      <td>1.000000</td>\n",
       "      <td>7.459857e+17</td>\n",
       "      <td>630.000000</td>\n",
       "      <td>6335.768000</td>\n",
       "    </tr>\n",
       "    <tr>\n",
       "      <th>75%</th>\n",
       "      <td>8.886125e+17</td>\n",
       "      <td>8.890000e+17</td>\n",
       "      <td>448.000000</td>\n",
       "      <td>1026.000000</td>\n",
       "      <td>1.000000</td>\n",
       "      <td>1.000000</td>\n",
       "      <td>8.920644e+17</td>\n",
       "      <td>2526.000000</td>\n",
       "      <td>10726.432000</td>\n",
       "    </tr>\n",
       "    <tr>\n",
       "      <th>max</th>\n",
       "      <td>9.058747e+17</td>\n",
       "      <td>9.060000e+17</td>\n",
       "      <td>23890.000000</td>\n",
       "      <td>21843.000000</td>\n",
       "      <td>1.000000</td>\n",
       "      <td>1.000000</td>\n",
       "      <td>9.766389e+17</td>\n",
       "      <td>69979.000000</td>\n",
       "      <td>24378.556000</td>\n",
       "    </tr>\n",
       "  </tbody>\n",
       "</table>\n",
       "</div>"
      ],
      "text/plain": [
       "       alt_external_id  external_author_id     followers     following  \\\n",
       "count     2.490000e+02        2.490000e+02    249.000000    249.000000   \n",
       "mean      3.024771e+17        3.025013e+17    705.257028    981.393574   \n",
       "std       4.179341e+17        4.179680e+17   2273.605614   1991.073836   \n",
       "min       3.497640e+07        3.497640e+07      0.000000      0.000000   \n",
       "25%       2.176657e+09        2.176657e+09     51.000000     60.000000   \n",
       "50%       2.592433e+09        2.592433e+09    135.000000    284.000000   \n",
       "75%       8.886125e+17        8.890000e+17    448.000000   1026.000000   \n",
       "max       9.058747e+17        9.060000e+17  23890.000000  21843.000000   \n",
       "\n",
       "       new_june_2018     retweet      tweet_id       updates  updates1000ma  \n",
       "count     249.000000  249.000000  2.490000e+02    249.000000     249.000000  \n",
       "mean        0.285141    0.823293  7.740919e+17   2263.919679    8041.356811  \n",
       "std         0.452391    0.382189  1.074534e+17   5652.591184    6458.641149  \n",
       "min         0.000000    0.000000  5.985325e+17      3.000000     491.221000  \n",
       "25%         0.000000    1.000000  6.717084e+17    336.000000    2720.573000  \n",
       "50%         0.000000    1.000000  7.459857e+17    630.000000    6335.768000  \n",
       "75%         1.000000    1.000000  8.920644e+17   2526.000000   10726.432000  \n",
       "max         1.000000    1.000000  9.766389e+17  69979.000000   24378.556000  "
      ]
     },
     "execution_count": 13,
     "metadata": {},
     "output_type": "execute_result"
    }
   ],
   "source": [
    "accounts_max.describe()"
   ]
  },
  {
   "cell_type": "code",
   "execution_count": 25,
   "metadata": {},
   "outputs": [
    {
     "data": {
      "text/plain": [
       "<matplotlib.image.AxesImage at 0x126cf0f98>"
      ]
     },
     "execution_count": 25,
     "metadata": {},
     "output_type": "execute_result"
    },
    {
     "data": {
      "image/png": "[encoded data removed]",
      "text/plain": [
       "<Figure size 288x288 with 1 Axes>"
      ]
     },
     "metadata": {
      "needs_background": "light"
     },
     "output_type": "display_data"
    }
   ],
   "source": []
  },
  {
   "cell_type": "code",
   "execution_count": 34,
   "metadata": {},
   "outputs": [
    {
     "data": {
      "text/plain": [
       "<matplotlib.image.AxesImage at 0x1283455f8>"
      ]
     },
     "execution_count": 34,
     "metadata": {},
     "output_type": "execute_result"
    },
    {
     "data": {
      "image/png": "[encoded data removed]",
      "text/plain": [
       "<Figure size 864x864 with 1 Axes>"
      ]
     },
     "metadata": {
      "needs_background": "light"
     },
     "output_type": "display_data"
    }
   ],
   "source": [
    "# Drop irrelevant/string columns first + incorporate sentiment\n",
    "\n",
    "labels = [c for c in df_corr.columns]\n",
    "\n",
    "fig = plt.figure(figsize=(12,12))\n",
    "ax = fig.add_subplot(111)\n",
    "ax.set_xticks(np.arange(len(labels)))\n",
    "ax.set_xticklabels(labels)\n",
    "ax.set_yticklabels(labels)\n",
    "ax.matshow(df_corr, cmap=plt.cm.RdYlGn)\n"
   ]
  },
  {
   "cell_type": "code",
   "execution_count": null,
   "metadata": {},
   "outputs": [],
   "source": []
  },
  {
   "cell_type": "markdown",
   "metadata": {},
   "source": []
  },
  {
   "cell_type": "markdown",
   "metadata": {},
   "source": [
    "## Tweets by Category"
   ]
  },
  {
   "cell_type": "code",
   "execution_count": 15,
   "metadata": {},
   "outputs": [
    {
     "data": {
      "text/plain": [
       "{'HashtagGamer': 26720,\n",
       " 'LeftTroll': 35494,\n",
       " 'RightTroll': 113335,\n",
       " 'NonEnglish': 2139,\n",
       " 'Unknown': 580,\n",
       " 'Fearmonger': 378,\n",
       " 'NewsFeed': 11269,\n",
       " 'Commercial': 337}"
      ]
     },
     "execution_count": 15,
     "metadata": {},
     "output_type": "execute_result"
    }
   ],
   "source": [
    "# Define count_entries()\n",
    "def count_entries(df, *args):\n",
    "    \"\"\"Return a dictionary with counts of\n",
    "    occurrences as value for each key.\"\"\"\n",
    "    \n",
    "    #Initialize an empty dictionary: cols_count\n",
    "    cols_count = {}\n",
    "    \n",
    "    # Iterate over column names in args\n",
    "    for col_name in args:\n",
    "    \n",
    "        # Extract column from DataFrame: col\n",
    "        col = df[col_name]\n",
    "    \n",
    "        # Iterate over the column in DataFrame\n",
    "        for entry in col:\n",
    "    \n",
    "            # If entry is in cols_count, add 1\n",
    "            if entry in cols_count.keys():\n",
    "                cols_count[entry] += 1\n",
    "    \n",
    "            # Else add the entry to cols_count, set the value to 1\n",
    "            else:\n",
    "                cols_count[entry] = 1\n",
    "\n",
    "    # Return the cols_count dictionary\n",
    "    return cols_count\n",
    "\n",
    "# Call count_entries(): result\n",
    "cat_count = count_entries(df, 'account_category')\n",
    "\n",
    "cat_count"
   ]
  },
  {
   "cell_type": "code",
   "execution_count": null,
   "metadata": {},
   "outputs": [],
   "source": []
  },
  {
   "cell_type": "code",
   "execution_count": null,
   "metadata": {},
   "outputs": [],
   "source": []
  },
  {
   "cell_type": "code",
   "execution_count": null,
   "metadata": {},
   "outputs": [],
   "source": []
  },
  {
   "cell_type": "code",
   "execution_count": null,
   "metadata": {},
   "outputs": [],
   "source": []
  },
  {
   "cell_type": "code",
   "execution_count": null,
   "metadata": {},
   "outputs": [],
   "source": []
  },
  {
   "cell_type": "code",
   "execution_count": null,
   "metadata": {},
   "outputs": [],
   "source": []
  },
  {
   "cell_type": "code",
   "execution_count": null,
   "metadata": {},
   "outputs": [],
   "source": []
  },
  {
   "cell_type": "markdown",
   "metadata": {},
   "source": [
    "# Basic Visualizations\n",
    "\n",
    "Not all of the tweets in this dataset are in English. For the purposes of this project, we are only interested in the English tweets."
   ]
  },
  {
   "cell_type": "code",
   "execution_count": null,
   "metadata": {},
   "outputs": [],
   "source": []
  },
  {
   "cell_type": "code",
   "execution_count": null,
   "metadata": {},
   "outputs": [],
   "source": []
  },
  {
   "cell_type": "code",
   "execution_count": null,
   "metadata": {},
   "outputs": [],
   "source": []
  },
  {
   "cell_type": "markdown",
   "metadata": {},
   "source": [
    "# Network Analysis\n",
    "\n",
    "We are interested in the structure of the social network within which these accounts reside. \n",
    "\n",
    "From this dataset, we are only able to create a **mentions network**, since we do not have data regarding who has retweeted these tweets. In particular, we are intereset in which IRA accounts mention other IRA accounts, and how often. \n",
    "\n",
    "First, we need to create a function which uses regular expressions to extract the Twitter handles mentioned in each tweet. \n",
    "\n",
    "Then, we will create a function to construct a graph of mentions. This will be a directed graph, where each node represent an IRA account and each edge represents a direct mention."
   ]
  },
  {
   "cell_type": "code",
   "execution_count": 162,
   "metadata": {},
   "outputs": [
    {
     "data": {
      "text/html": [
       "<div>\n",
       "<style scoped>\n",
       "    .dataframe tbody tr th:only-of-type {\n",
       "        vertical-align: middle;\n",
       "    }\n",
       "\n",
       "    .dataframe tbody tr th {\n",
       "        vertical-align: top;\n",
       "    }\n",
       "\n",
       "    .dataframe thead th {\n",
       "        text-align: right;\n",
       "    }\n",
       "</style>\n",
       "<table border=\"1\" class=\"dataframe\">\n",
       "  <thead>\n",
       "    <tr style=\"text-align: right;\">\n",
       "      <th></th>\n",
       "      <th>external_author_id</th>\n",
       "      <th>author</th>\n",
       "      <th>content</th>\n",
       "    </tr>\n",
       "    <tr>\n",
       "      <th>publish_date</th>\n",
       "      <th></th>\n",
       "      <th></th>\n",
       "      <th></th>\n",
       "    </tr>\n",
       "  </thead>\n",
       "  <tbody>\n",
       "    <tr>\n",
       "      <th>2016-10-06 14:10:00</th>\n",
       "      <td>1679279490</td>\n",
       "      <td>AMELIEBALDWIN</td>\n",
       "      <td>There appears to be an alarming pattern Trudea...</td>\n",
       "    </tr>\n",
       "    <tr>\n",
       "      <th>2016-12-31 15:46:00</th>\n",
       "      <td>1679279490</td>\n",
       "      <td>AMELIEBALDWIN</td>\n",
       "      <td>EXACTLY! @Exoticbulls @LadyThriller69 @realDon...</td>\n",
       "    </tr>\n",
       "    <tr>\n",
       "      <th>2016-12-17 12:36:00</th>\n",
       "      <td>1652987412</td>\n",
       "      <td>ALECMOOOOODY</td>\n",
       "      <td>And early ...HAPPY CATURDAY�  #Marvel #comics ...</td>\n",
       "    </tr>\n",
       "    <tr>\n",
       "      <th>2017-08-13 01:54:00</th>\n",
       "      <td>895000000000000000</td>\n",
       "      <td>AMELINAASTR</td>\n",
       "      <td>RT SaysMissy: Thankful for  POTUS Promptly Con...</td>\n",
       "    </tr>\n",
       "    <tr>\n",
       "      <th>2017-08-17 16:35:00</th>\n",
       "      <td>895000000000000000</td>\n",
       "      <td>ARIEENSLPE</td>\n",
       "      <td>#laup Look What Antifa THUGS Did to This Black...</td>\n",
       "    </tr>\n",
       "    <tr>\n",
       "      <th>2017-01-01 13:01:00</th>\n",
       "      <td>1652138929</td>\n",
       "      <td>ACEJINEV</td>\n",
       "      <td>The latest The Parsimonious Pash Daily! https:...</td>\n",
       "    </tr>\n",
       "    <tr>\n",
       "      <th>2017-08-12 03:01:00</th>\n",
       "      <td>891000000000000000</td>\n",
       "      <td>ARABMTR</td>\n",
       "      <td>RT ladyjillian12: WhiteHouse dittman_beth The ...</td>\n",
       "    </tr>\n",
       "    <tr>\n",
       "      <th>2016-12-05 13:31:00</th>\n",
       "      <td>2582643409</td>\n",
       "      <td>ARKADII_TROFIM</td>\n",
       "      <td>Moscow’s air @mod_russia units to get new regi...</td>\n",
       "    </tr>\n",
       "    <tr>\n",
       "      <th>2017-05-01 04:01:00</th>\n",
       "      <td>1652987412</td>\n",
       "      <td>ALECMOOOOODY</td>\n",
       "      <td>Please help this sister out with her studies. ...</td>\n",
       "    </tr>\n",
       "    <tr>\n",
       "      <th>2017-08-15 00:14:00</th>\n",
       "      <td>895000000000000000</td>\n",
       "      <td>ANGTHEESTR</td>\n",
       "      <td>#flig LOL! Trump Just Called Jim Acosta “FAKE ...</td>\n",
       "    </tr>\n",
       "  </tbody>\n",
       "</table>\n",
       "</div>"
      ],
      "text/plain": [
       "                     external_author_id          author  \\\n",
       "publish_date                                              \n",
       "2016-10-06 14:10:00          1679279490   AMELIEBALDWIN   \n",
       "2016-12-31 15:46:00          1679279490   AMELIEBALDWIN   \n",
       "2016-12-17 12:36:00          1652987412    ALECMOOOOODY   \n",
       "2017-08-13 01:54:00  895000000000000000     AMELINAASTR   \n",
       "2017-08-17 16:35:00  895000000000000000      ARIEENSLPE   \n",
       "2017-01-01 13:01:00          1652138929        ACEJINEV   \n",
       "2017-08-12 03:01:00  891000000000000000         ARABMTR   \n",
       "2016-12-05 13:31:00          2582643409  ARKADII_TROFIM   \n",
       "2017-05-01 04:01:00          1652987412    ALECMOOOOODY   \n",
       "2017-08-15 00:14:00  895000000000000000      ANGTHEESTR   \n",
       "\n",
       "                                                               content  \n",
       "publish_date                                                            \n",
       "2016-10-06 14:10:00  There appears to be an alarming pattern Trudea...  \n",
       "2016-12-31 15:46:00  EXACTLY! @Exoticbulls @LadyThriller69 @realDon...  \n",
       "2016-12-17 12:36:00  And early ...HAPPY CATURDAY�  #Marvel #comics ...  \n",
       "2017-08-13 01:54:00  RT SaysMissy: Thankful for  POTUS Promptly Con...  \n",
       "2017-08-17 16:35:00  #laup Look What Antifa THUGS Did to This Black...  \n",
       "2017-01-01 13:01:00  The latest The Parsimonious Pash Daily! https:...  \n",
       "2017-08-12 03:01:00  RT ladyjillian12: WhiteHouse dittman_beth The ...  \n",
       "2016-12-05 13:31:00  Moscow’s air @mod_russia units to get new regi...  \n",
       "2017-05-01 04:01:00  Please help this sister out with her studies. ...  \n",
       "2017-08-15 00:14:00  #flig LOL! Trump Just Called Jim Acosta “FAKE ...  "
      ]
     },
     "execution_count": 162,
     "metadata": {},
     "output_type": "execute_result"
    }
   ],
   "source": [
    "# Create test data\n",
    "test_tweets = df[['external_author_id', 'author',str('content')]].sample(10)\n",
    "test_tweets # REDUCE NUBER OF TEST CASES"
   ]
  },
  {
   "cell_type": "code",
   "execution_count": null,
   "metadata": {},
   "outputs": [],
   "source": []
  },
  {
   "cell_type": "code",
   "execution_count": 160,
   "metadata": {},
   "outputs": [
    {
     "ename": "AttributeError",
     "evalue": "(\"'Series' object has no attribute 'iterrows'\", 'occurred at index external_author_id')",
     "output_type": "error",
     "traceback": [
      "\u001b[0;31m---------------------------------------------------------------------------\u001b[0m",
      "\u001b[0;31mAttributeError\u001b[0m                            Traceback (most recent call last)",
      "\u001b[0;32m<ipython-input-160-62e7c87caaba>\u001b[0m in \u001b[0;36m<module>\u001b[0;34m\u001b[0m\n\u001b[1;32m     17\u001b[0m         \u001b[0;32mreturn\u001b[0m \u001b[0mmentioned_users\u001b[0m\u001b[0;34m\u001b[0m\u001b[0;34m\u001b[0m\u001b[0m\n\u001b[1;32m     18\u001b[0m \u001b[0;34m\u001b[0m\u001b[0m\n\u001b[0;32m---> 19\u001b[0;31m \u001b[0musernames\u001b[0m \u001b[0;34m=\u001b[0m \u001b[0mtest_tweets\u001b[0m\u001b[0;34m.\u001b[0m\u001b[0mapply\u001b[0m\u001b[0;34m(\u001b[0m\u001b[0mextract_multi_usernames\u001b[0m\u001b[0;34m)\u001b[0m\u001b[0;34m\u001b[0m\u001b[0;34m\u001b[0m\u001b[0m\n\u001b[0m\u001b[1;32m     20\u001b[0m \u001b[0;34m\u001b[0m\u001b[0m\n\u001b[1;32m     21\u001b[0m \u001b[0mprint\u001b[0m\u001b[0;34m(\u001b[0m\u001b[0musernames\u001b[0m\u001b[0;34m)\u001b[0m\u001b[0;34m\u001b[0m\u001b[0;34m\u001b[0m\u001b[0m\n",
      "\u001b[0;32m/Library/Frameworks/Python.framework/Versions/3.7/lib/python3.7/site-packages/pandas/core/frame.py\u001b[0m in \u001b[0;36mapply\u001b[0;34m(self, func, axis, broadcast, raw, reduce, result_type, args, **kwds)\u001b[0m\n\u001b[1;32m   6494\u001b[0m                          \u001b[0margs\u001b[0m\u001b[0;34m=\u001b[0m\u001b[0margs\u001b[0m\u001b[0;34m,\u001b[0m\u001b[0;34m\u001b[0m\u001b[0;34m\u001b[0m\u001b[0m\n\u001b[1;32m   6495\u001b[0m                          kwds=kwds)\n\u001b[0;32m-> 6496\u001b[0;31m         \u001b[0;32mreturn\u001b[0m \u001b[0mop\u001b[0m\u001b[0;34m.\u001b[0m\u001b[0mget_result\u001b[0m\u001b[0;34m(\u001b[0m\u001b[0;34m)\u001b[0m\u001b[0;34m\u001b[0m\u001b[0;34m\u001b[0m\u001b[0m\n\u001b[0m\u001b[1;32m   6497\u001b[0m \u001b[0;34m\u001b[0m\u001b[0m\n\u001b[1;32m   6498\u001b[0m     \u001b[0;32mdef\u001b[0m \u001b[0mapplymap\u001b[0m\u001b[0;34m(\u001b[0m\u001b[0mself\u001b[0m\u001b[0;34m,\u001b[0m \u001b[0mfunc\u001b[0m\u001b[0;34m)\u001b[0m\u001b[0;34m:\u001b[0m\u001b[0;34m\u001b[0m\u001b[0;34m\u001b[0m\u001b[0m\n",
      "\u001b[0;32m/Library/Frameworks/Python.framework/Versions/3.7/lib/python3.7/site-packages/pandas/core/apply.py\u001b[0m in \u001b[0;36mget_result\u001b[0;34m(self)\u001b[0m\n\u001b[1;32m    149\u001b[0m             \u001b[0;32mreturn\u001b[0m \u001b[0mself\u001b[0m\u001b[0;34m.\u001b[0m\u001b[0mapply_raw\u001b[0m\u001b[0;34m(\u001b[0m\u001b[0;34m)\u001b[0m\u001b[0;34m\u001b[0m\u001b[0;34m\u001b[0m\u001b[0m\n\u001b[1;32m    150\u001b[0m \u001b[0;34m\u001b[0m\u001b[0m\n\u001b[0;32m--> 151\u001b[0;31m         \u001b[0;32mreturn\u001b[0m \u001b[0mself\u001b[0m\u001b[0;34m.\u001b[0m\u001b[0mapply_standard\u001b[0m\u001b[0;34m(\u001b[0m\u001b[0;34m)\u001b[0m\u001b[0;34m\u001b[0m\u001b[0;34m\u001b[0m\u001b[0m\n\u001b[0m\u001b[1;32m    152\u001b[0m \u001b[0;34m\u001b[0m\u001b[0m\n\u001b[1;32m    153\u001b[0m     \u001b[0;32mdef\u001b[0m \u001b[0mapply_empty_result\u001b[0m\u001b[0;34m(\u001b[0m\u001b[0mself\u001b[0m\u001b[0;34m)\u001b[0m\u001b[0;34m:\u001b[0m\u001b[0;34m\u001b[0m\u001b[0;34m\u001b[0m\u001b[0m\n",
      "\u001b[0;32m/Library/Frameworks/Python.framework/Versions/3.7/lib/python3.7/site-packages/pandas/core/apply.py\u001b[0m in \u001b[0;36mapply_standard\u001b[0;34m(self)\u001b[0m\n\u001b[1;32m    255\u001b[0m \u001b[0;34m\u001b[0m\u001b[0m\n\u001b[1;32m    256\u001b[0m         \u001b[0;31m# compute the result using the series generator\u001b[0m\u001b[0;34m\u001b[0m\u001b[0;34m\u001b[0m\u001b[0;34m\u001b[0m\u001b[0m\n\u001b[0;32m--> 257\u001b[0;31m         \u001b[0mself\u001b[0m\u001b[0;34m.\u001b[0m\u001b[0mapply_series_generator\u001b[0m\u001b[0;34m(\u001b[0m\u001b[0;34m)\u001b[0m\u001b[0;34m\u001b[0m\u001b[0;34m\u001b[0m\u001b[0m\n\u001b[0m\u001b[1;32m    258\u001b[0m \u001b[0;34m\u001b[0m\u001b[0m\n\u001b[1;32m    259\u001b[0m         \u001b[0;31m# wrap results\u001b[0m\u001b[0;34m\u001b[0m\u001b[0;34m\u001b[0m\u001b[0;34m\u001b[0m\u001b[0m\n",
      "\u001b[0;32m/Library/Frameworks/Python.framework/Versions/3.7/lib/python3.7/site-packages/pandas/core/apply.py\u001b[0m in \u001b[0;36mapply_series_generator\u001b[0;34m(self)\u001b[0m\n\u001b[1;32m    284\u001b[0m             \u001b[0;32mtry\u001b[0m\u001b[0;34m:\u001b[0m\u001b[0;34m\u001b[0m\u001b[0;34m\u001b[0m\u001b[0m\n\u001b[1;32m    285\u001b[0m                 \u001b[0;32mfor\u001b[0m \u001b[0mi\u001b[0m\u001b[0;34m,\u001b[0m \u001b[0mv\u001b[0m \u001b[0;32min\u001b[0m \u001b[0menumerate\u001b[0m\u001b[0;34m(\u001b[0m\u001b[0mseries_gen\u001b[0m\u001b[0;34m)\u001b[0m\u001b[0;34m:\u001b[0m\u001b[0;34m\u001b[0m\u001b[0;34m\u001b[0m\u001b[0m\n\u001b[0;32m--> 286\u001b[0;31m                     \u001b[0mresults\u001b[0m\u001b[0;34m[\u001b[0m\u001b[0mi\u001b[0m\u001b[0;34m]\u001b[0m \u001b[0;34m=\u001b[0m \u001b[0mself\u001b[0m\u001b[0;34m.\u001b[0m\u001b[0mf\u001b[0m\u001b[0;34m(\u001b[0m\u001b[0mv\u001b[0m\u001b[0;34m)\u001b[0m\u001b[0;34m\u001b[0m\u001b[0;34m\u001b[0m\u001b[0m\n\u001b[0m\u001b[1;32m    287\u001b[0m                     \u001b[0mkeys\u001b[0m\u001b[0;34m.\u001b[0m\u001b[0mappend\u001b[0m\u001b[0;34m(\u001b[0m\u001b[0mv\u001b[0m\u001b[0;34m.\u001b[0m\u001b[0mname\u001b[0m\u001b[0;34m)\u001b[0m\u001b[0;34m\u001b[0m\u001b[0;34m\u001b[0m\u001b[0m\n\u001b[1;32m    288\u001b[0m             \u001b[0;32mexcept\u001b[0m \u001b[0mException\u001b[0m \u001b[0;32mas\u001b[0m \u001b[0me\u001b[0m\u001b[0;34m:\u001b[0m\u001b[0;34m\u001b[0m\u001b[0;34m\u001b[0m\u001b[0m\n",
      "\u001b[0;32m<ipython-input-160-62e7c87caaba>\u001b[0m in \u001b[0;36mextract_multi_usernames\u001b[0;34m(tweets)\u001b[0m\n\u001b[1;32m     12\u001b[0m \u001b[0;32mdef\u001b[0m \u001b[0mextract_multi_usernames\u001b[0m\u001b[0;34m(\u001b[0m\u001b[0mtweets\u001b[0m\u001b[0;34m)\u001b[0m\u001b[0;34m:\u001b[0m\u001b[0;34m\u001b[0m\u001b[0;34m\u001b[0m\u001b[0m\n\u001b[1;32m     13\u001b[0m \u001b[0;34m\u001b[0m\u001b[0m\n\u001b[0;32m---> 14\u001b[0;31m     \u001b[0;32mfor\u001b[0m \u001b[0mindex\u001b[0m\u001b[0;34m,\u001b[0m \u001b[0mrow\u001b[0m \u001b[0;32min\u001b[0m \u001b[0mtweets\u001b[0m\u001b[0;34m.\u001b[0m\u001b[0miterrows\u001b[0m\u001b[0;34m(\u001b[0m\u001b[0;34m)\u001b[0m\u001b[0;34m:\u001b[0m\u001b[0;34m\u001b[0m\u001b[0;34m\u001b[0m\u001b[0m\n\u001b[0m\u001b[1;32m     15\u001b[0m         \u001b[0mdrop_emails\u001b[0m \u001b[0;34m=\u001b[0m \u001b[0mre\u001b[0m\u001b[0;34m.\u001b[0m\u001b[0msub\u001b[0m\u001b[0;34m(\u001b[0m\u001b[0;34m\"[\\w]+@[\\w]+\\.[c][o][m]\"\u001b[0m\u001b[0;34m,\u001b[0m \u001b[0;34m\"\"\u001b[0m\u001b[0;34m,\u001b[0m \u001b[0mrow\u001b[0m\u001b[0;34m[\u001b[0m\u001b[0;34m'content'\u001b[0m\u001b[0;34m]\u001b[0m\u001b[0;34m)\u001b[0m\u001b[0;34m\u001b[0m\u001b[0;34m\u001b[0m\u001b[0m\n\u001b[1;32m     16\u001b[0m         \u001b[0mmentioned_users\u001b[0m \u001b[0;34m=\u001b[0m \u001b[0mre\u001b[0m\u001b[0;34m.\u001b[0m\u001b[0mfindall\u001b[0m\u001b[0;34m(\u001b[0m\u001b[0;34m\"@([a-zA-Z0-9]{1,15})\"\u001b[0m\u001b[0;34m,\u001b[0m \u001b[0mdrop_emails\u001b[0m\u001b[0;34m)\u001b[0m\u001b[0;34m\u001b[0m\u001b[0;34m\u001b[0m\u001b[0m\n",
      "\u001b[0;32m/Library/Frameworks/Python.framework/Versions/3.7/lib/python3.7/site-packages/pandas/core/generic.py\u001b[0m in \u001b[0;36m__getattr__\u001b[0;34m(self, name)\u001b[0m\n\u001b[1;32m   5055\u001b[0m             \u001b[0;32mif\u001b[0m \u001b[0mself\u001b[0m\u001b[0;34m.\u001b[0m\u001b[0m_info_axis\u001b[0m\u001b[0;34m.\u001b[0m\u001b[0m_can_hold_identifiers_and_holds_name\u001b[0m\u001b[0;34m(\u001b[0m\u001b[0mname\u001b[0m\u001b[0;34m)\u001b[0m\u001b[0;34m:\u001b[0m\u001b[0;34m\u001b[0m\u001b[0;34m\u001b[0m\u001b[0m\n\u001b[1;32m   5056\u001b[0m                 \u001b[0;32mreturn\u001b[0m \u001b[0mself\u001b[0m\u001b[0;34m[\u001b[0m\u001b[0mname\u001b[0m\u001b[0;34m]\u001b[0m\u001b[0;34m\u001b[0m\u001b[0;34m\u001b[0m\u001b[0m\n\u001b[0;32m-> 5057\u001b[0;31m             \u001b[0;32mreturn\u001b[0m \u001b[0mobject\u001b[0m\u001b[0;34m.\u001b[0m\u001b[0m__getattribute__\u001b[0m\u001b[0;34m(\u001b[0m\u001b[0mself\u001b[0m\u001b[0;34m,\u001b[0m \u001b[0mname\u001b[0m\u001b[0;34m)\u001b[0m\u001b[0;34m\u001b[0m\u001b[0;34m\u001b[0m\u001b[0m\n\u001b[0m\u001b[1;32m   5058\u001b[0m \u001b[0;34m\u001b[0m\u001b[0m\n\u001b[1;32m   5059\u001b[0m     \u001b[0;32mdef\u001b[0m \u001b[0m__setattr__\u001b[0m\u001b[0;34m(\u001b[0m\u001b[0mself\u001b[0m\u001b[0;34m,\u001b[0m \u001b[0mname\u001b[0m\u001b[0;34m,\u001b[0m \u001b[0mvalue\u001b[0m\u001b[0;34m)\u001b[0m\u001b[0;34m:\u001b[0m\u001b[0;34m\u001b[0m\u001b[0;34m\u001b[0m\u001b[0m\n",
      "\u001b[0;31mAttributeError\u001b[0m: (\"'Series' object has no attribute 'iterrows'\", 'occurred at index external_author_id')"
     ]
    }
   ],
   "source": [
    "'''\n",
    "This function works for one tweet, but not for a list of tweets:\n",
    "\n",
    "def extract_usernames(tweet_content, user):\n",
    "    drop_emails = re.sub(\"[\\w]+@[\\w]+\\.[c][o][m]\", \"\", tweet_content)\n",
    "    mentioned_users = re.findall(\"@([a-zA-Z0-9]{1,15})\", drop_emails)\n",
    "    return mentioned_users\n",
    "\n",
    "extract_user(\"Hi josh@josh.com. Have you met @matt?\", \"@josh\")'''\n",
    "\n",
    "# Function for multiple tweets\n",
    "def extract_multi_usernames(tweets):\n",
    "        \n",
    "    for index, row in tweets.iterrows():\n",
    "        drop_emails = re.sub(\"[\\w]+@[\\w]+\\.[c][o][m]\", \"\", row['content'])\n",
    "        mentioned_users = re.findall(\"@([a-zA-Z0-9]{1,15})\", drop_emails)\n",
    "        return mentioned_users\n",
    "    \n",
    "usernames = test_tweets.apply(extract_multi_usernames)\n",
    "\n",
    "print(usernames)\n",
    "#^^^ be sure to drop tweets where retweet == 1"
   ]
  },
  {
   "cell_type": "code",
   "execution_count": 42,
   "metadata": {},
   "outputs": [
    {
     "name": "stdout",
     "output_type": "stream",
     "text": [
      "<class 'numpy.ndarray'>\n"
     ]
    }
   ],
   "source": [
    "# Function to create user mentions\n",
    "def ira_mentions_graph(tweets):\n",
    "    \"\"\"Extracts a list of unique tweet-posters from dataset. Reads tweets, and returns graph\n",
    "    where nodes are tweet-posters and edges are mentions of other IRA tweet-posters. Weight of edges\n",
    "    correspond to frequency of mentions\n",
    "    \"\"\"\n",
    "    \n",
    "    g = nx.DiGraph() # Directed graph\n",
    "    counter = 0\n",
    "    user_names= {}\n",
    "    \n",
    "    for tweet in tweets:\n",
    "        counter += 1\n",
    "        tweet_poster = int(tweets['external_author_id']\n",
    "        \n",
    "        if user_names.has_key(tweet_poster) and not tweets['author'] in user_names[tweet_poster]:\n",
    "            user_names[tweet_poster].append(tweets['author'])\n",
    "            \n",
    "        else:\n",
    "            user_names[tweet_poster] = tweets['author'] \n",
    "    \n",
    "                           \n",
    "        # Iterate through mentioned users - DOES THIS NEED TO BE DONE BEFOREHAND IN SEP FXN?\n",
    "        mentions = tweets[]"
   ]
  },
  {
   "cell_type": "code",
   "execution_count": null,
   "metadata": {},
   "outputs": [],
   "source": []
  },
  {
   "cell_type": "code",
   "execution_count": null,
   "metadata": {},
   "outputs": [],
   "source": []
  },
  {
   "cell_type": "code",
   "execution_count": null,
   "metadata": {},
   "outputs": [],
   "source": []
  },
  {
   "cell_type": "code",
   "execution_count": 118,
   "metadata": {},
   "outputs": [
    {
     "data": {
      "text/plain": [
       "\"\\nI'm struggling to translate my preference for pipes into python. Here's a simple psuedo-code example:\\n\\nfor tweet in dataset:\\n    user_mentions = drop_emails_fxn(tweet) %>%\\n                    extract_usernames_fxn(tweet)\\n        \\nI want to drop emails from the tweet first, THEN extract the usernames. In Python, don't I have to use separate variables?\\n\\nfor tweet in dataset:\\n    no_emails = drop_emails_fxn(tweet)\\n    user_mentions = extract_usernames_fxn(tweet)\\n\""
      ]
     },
     "execution_count": 118,
     "metadata": {},
     "output_type": "execute_result"
    }
   ],
   "source": [
    "'''\n",
    "I'm struggling to translate my preference for pipes into python. Here's a simple psuedo-code example:\n",
    "\n",
    "for tweet in dataset:\n",
    "    user_mentions = drop_emails_fxn(tweet) %>%\n",
    "                    extract_usernames_fxn(tweet)\n",
    "        \n",
    "I want to drop emails from the tweet first, THEN extract the usernames. In Python, don't I have to use separate variables?\n",
    "\n",
    "for tweet in dataset:\n",
    "    no_emails = drop_emails_fxn(tweet)\n",
    "    user_mentions = extract_usernames_fxn(tweet)\n",
    "'''"
   ]
  },
  {
   "cell_type": "markdown",
   "metadata": {},
   "source": [
    "# Key Influencers \n",
    "\n",
    "We can see that there are a few accounts which stand out as being influential. What are their common characteristics?"
   ]
  },
  {
   "cell_type": "markdown",
   "metadata": {},
   "source": [
    "# Credibility Score \n",
    "\n"
   ]
  },
  {
   "cell_type": "markdown",
   "metadata": {},
   "source": [
    "# Sentiment Analysis\n",
    "\n",
    "Previous studies have show that influential Twitter accounts tend to have a distinct sentiment "
   ]
  },
  {
   "cell_type": "markdown",
   "metadata": {},
   "source": []
  },
  {
   "cell_type": "markdown",
   "metadata": {},
   "source": [
    "# Things to Investigate / Incorporate\n",
    "\n",
    "    Strong postive correlation between followers - following.\n",
    "    \n",
    "    There is a hashtagger account named \"Andy Hashtagger\"\n",
    "    \n",
    "    1. Create new features\n",
    "        a. botometer score of mentioned accts which are still active\n",
    "        b. sentiment score of tweets\n",
    "        c. some ratio of followers/following/participation\n",
    "    2. Use these features to predict updates\n",
    "    \n",
    "    What states do these people list in their bio? Does that correlate with anything?"
   ]
  },
  {
   "cell_type": "code",
   "execution_count": null,
   "metadata": {},
   "outputs": [],
   "source": []
  },
  {
   "cell_type": "code",
   "execution_count": null,
   "metadata": {},
   "outputs": [],
   "source": []
  },
  {
   "cell_type": "code",
   "execution_count": null,
   "metadata": {},
   "outputs": [],
   "source": []
  },
  {
   "cell_type": "code",
   "execution_count": null,
   "metadata": {},
   "outputs": [],
   "source": []
  },
  {
   "cell_type": "code",
   "execution_count": null,
   "metadata": {},
   "outputs": [],
   "source": []
  },
  {
   "cell_type": "code",
   "execution_count": null,
   "metadata": {},
   "outputs": [],
   "source": [
    "\n"
   ]
  },
  {
   "cell_type": "code",
   "execution_count": null,
   "metadata": {},
   "outputs": [],
   "source": [
    "\n"
   ]
  },
  {
   "cell_type": "code",
   "execution_count": null,
   "metadata": {},
   "outputs": [],
   "source": []
  },
  {
   "cell_type": "code",
   "execution_count": null,
   "metadata": {},
   "outputs": [],
   "source": []
  },
  {
   "cell_type": "code",
   "execution_count": null,
   "metadata": {},
   "outputs": [],
   "source": []
  }
 ],
 "metadata": {
  "kernelspec": {
   "display_name": "Python 3",
   "language": "python",
   "name": "python3"
  },
  "language_info": {
   "codemirror_mode": {
    "name": "ipython",
    "version": 3
   },
   "file_extension": ".py",
   "mimetype": "text/x-python",
   "name": "python",
   "nbconvert_exporter": "python",
   "pygments_lexer": "ipython3",
   "version": "3.7.2"
  },
  "toc": {
   "base_numbering": 1,
   "nav_menu": {},
   "number_sections": true,
   "sideBar": true,
   "skip_h1_title": false,
   "title_cell": "Table of Contents",
   "title_sidebar": "Contents",
   "toc_cell": false,
   "toc_position": {},
   "toc_section_display": true,
   "toc_window_display": false
  }
 },
 "nbformat": 4,
 "nbformat_minor": 2
}
